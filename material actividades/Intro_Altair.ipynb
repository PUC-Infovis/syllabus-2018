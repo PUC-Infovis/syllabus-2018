{
 "cells": [
  {
   "cell_type": "markdown",
   "metadata": {
    "colab_type": "text",
    "id": "view-in-github"
   },
   "source": [
    "[View in Colaboratory](https://colab.research.google.com/github.com/PUC-Infovis/syllabus-2018/blob/master/material actividades/Intro_Altair.ipynb)"
   ]
  },
  {
   "cell_type": "markdown",
   "metadata": {
    "colab_type": "text",
    "id": "5_uDs_Ikj5uO"
   },
   "source": [
    "#Actividad Práctica - Altair: Declarative Visualization in Python\n",
    "\n",
    "**Profesor:** Denis Parra.\n",
    "\n",
    "**Ayudantes**: Fernando Florenzano,  Hernán Valdivieso, Cristóbal Abarca\n",
    "\n",
    "**Nombre**:\n",
    "\n"
   ]
  },
  {
   "cell_type": "code",
   "execution_count": 1,
   "metadata": {
    "colab": {
     "base_uri": "https://localhost:8080/",
     "height": 387
    },
    "colab_type": "code",
    "id": "uuiEl3u5j2Cd",
    "outputId": "3844d324-dd0b-4b33-fda4-e8100002accb"
   },
   "outputs": [
    {
     "data": {
      "text/html": [
       "\n",
       "<!DOCTYPE html>\n",
       "<html>\n",
       "<head>\n",
       "  <style>\n",
       "    .vega-actions a {\n",
       "        margin-right: 12px;\n",
       "        color: #757575;\n",
       "        font-weight: normal;\n",
       "        font-size: 13px;\n",
       "    }\n",
       "    .error {\n",
       "        color: red;\n",
       "    }\n",
       "  </style>\n",
       "\n",
       "<script src=\"https://cdn.jsdelivr.net/npm//vega@3.3.1\"></script>\n",
       "<script src=\"https://cdn.jsdelivr.net/npm//vega-lite@2.4.3\"></script>\n",
       "<script src=\"https://cdn.jsdelivr.net/npm//vega-embed@3.11\"></script>\n",
       "\n",
       "</head>\n",
       "<body>\n",
       "  <div id=\"vis\"></div>\n",
       "  <script type=\"text/javascript\">\n",
       "    var spec = {\"config\": {\"view\": {\"width\": 400, \"height\": 300}}, \"data\": {\"values\": [{\"a\": \"A\", \"b\": 55}, {\"a\": \"B\", \"b\": 48}, {\"a\": \"C\", \"b\": 34}, {\"a\": \"D\", \"b\": 21}, {\"a\": \"E\", \"b\": 11}, {\"a\": \"F\", \"b\": 73}, {\"a\": \"G\", \"b\": 89}, {\"a\": \"H\", \"b\": 97}, {\"a\": \"I\", \"b\": 100}]}, \"mark\": \"bar\", \"encoding\": {\"x\": {\"type\": \"nominal\", \"field\": \"a\"}, \"y\": {\"type\": \"quantitative\", \"field\": \"b\"}}, \"$schema\": \"https://vega.github.io/schema/vega-lite/v2.4.3.json\"};\n",
       "    var embed_opt = {\"mode\": \"vega-lite\"};\n",
       "\n",
       "    function showError(el, error){\n",
       "        el.innerHTML = ('<div class=\"error\">'\n",
       "                        + '<p>JavaScript Error: ' + error.message + '</p>'\n",
       "                        + \"<p>This usually means there's a typo in your chart specification. \"\n",
       "                        + \"See the javascript console for the full traceback.</p>\"\n",
       "                        + '</div>');\n",
       "        throw error;\n",
       "    }\n",
       "    const el = document.getElementById('vis');\n",
       "    vegaEmbed(\"#vis\", spec, embed_opt)\n",
       "      .catch(error => showError(el, error));\n",
       "  </script>\n",
       "</body>\n",
       "</html>\n"
      ],
      "text/plain": [
       "Chart({\n",
       "  data:    a    b\n",
       "  0  A   55\n",
       "  1  B   48\n",
       "  2  C   34\n",
       "  3  D   21\n",
       "  4  E   11\n",
       "  5  F   73\n",
       "  6  G   89\n",
       "  7  H   97\n",
       "  8  I  100,\n",
       "  encoding: EncodingWithFacet({\n",
       "    x: X({\n",
       "      shorthand: 'a'\n",
       "    }),\n",
       "    y: Y({\n",
       "      shorthand: 'b'\n",
       "    })\n",
       "  }),\n",
       "  mark: 'bar'\n",
       "})"
      ]
     },
     "execution_count": 1,
     "metadata": {
      "tags": []
     },
     "output_type": "execute_result"
    }
   ],
   "source": [
    "import altair as alt\n",
    "import pandas as pd\n",
    "\n",
    "data = pd.DataFrame({\n",
    "    'a': ['A', 'B', 'C', 'D', 'E', 'F', 'G', 'H', 'I'],\n",
    "    'b': [55, 48, 34, 21, 11, 73, 89, 97, 100]    \n",
    "})\n",
    "\n",
    "alt.Chart(data).mark_bar().encode(\n",
    "    x='a',\n",
    "    y='b'\n",
    ")"
   ]
  },
  {
   "cell_type": "markdown",
   "metadata": {
    "colab_type": "text",
    "id": "Aoi1VLFUkGaZ"
   },
   "source": [
    "**Actividad: **\n",
    "\n",
    "Agregue al dataframe **data** una columna adicional *categoria* que será de tipo String. Elija manualmente valores para cada fila, muestreando elementos del conjunto\n",
    "\n",
    "S = { 'cat1' , 'cat2' , 'cat3'}\n",
    "\n",
    "Luego, vuelva a hacer el gráfico anterior pero que esta vez el color de cada barra esté dado por la variable *categoria*."
   ]
  },
  {
   "cell_type": "code",
   "execution_count": 0,
   "metadata": {
    "colab": {},
    "colab_type": "code",
    "collapsed": true,
    "id": "DBVLIac0oVIZ"
   },
   "outputs": [],
   "source": [
    "# grafico 1 aqui"
   ]
  },
  {
   "cell_type": "code",
   "execution_count": 8,
   "metadata": {
    "colab": {
     "base_uri": "https://localhost:8080/",
     "height": 383
    },
    "colab_type": "code",
    "id": "bJV7G9z1j4v9",
    "outputId": "245addef-bc06-4534-be45-6787e8d5068f"
   },
   "outputs": [
    {
     "data": {
      "text/html": [
       "\n",
       "<!DOCTYPE html>\n",
       "<html>\n",
       "<head>\n",
       "  <style>\n",
       "    .vega-actions a {\n",
       "        margin-right: 12px;\n",
       "        color: #757575;\n",
       "        font-weight: normal;\n",
       "        font-size: 13px;\n",
       "    }\n",
       "    .error {\n",
       "        color: red;\n",
       "    }\n",
       "  </style>\n",
       "\n",
       "<script src=\"https://cdn.jsdelivr.net/npm//vega@3.3.1\"></script>\n",
       "<script src=\"https://cdn.jsdelivr.net/npm//vega-lite@2.4.3\"></script>\n",
       "<script src=\"https://cdn.jsdelivr.net/npm//vega-embed@3.11\"></script>\n",
       "\n",
       "</head>\n",
       "<body>\n",
       "  <div id=\"vis\"></div>\n",
       "  <script type=\"text/javascript\">\n",
       "    var spec = {\"config\": {\"view\": {\"width\": 400, \"height\": 300}}, \"data\": {\"values\": [{\"petalLength\": 1.4, \"petalWidth\": 0.2, \"sepalLength\": 5.1, \"sepalWidth\": 3.5, \"species\": \"setosa\"}, {\"petalLength\": 1.4, \"petalWidth\": 0.2, \"sepalLength\": 4.9, \"sepalWidth\": 3.0, \"species\": \"setosa\"}, {\"petalLength\": 1.3, \"petalWidth\": 0.2, \"sepalLength\": 4.7, \"sepalWidth\": 3.2, \"species\": \"setosa\"}, {\"petalLength\": 1.5, \"petalWidth\": 0.2, \"sepalLength\": 4.6, \"sepalWidth\": 3.1, \"species\": \"setosa\"}, {\"petalLength\": 1.4, \"petalWidth\": 0.2, \"sepalLength\": 5.0, \"sepalWidth\": 3.6, \"species\": \"setosa\"}, {\"petalLength\": 1.7000000000000002, \"petalWidth\": 0.4, \"sepalLength\": 5.4, \"sepalWidth\": 3.9, \"species\": \"setosa\"}, {\"petalLength\": 1.4, \"petalWidth\": 0.30000000000000004, \"sepalLength\": 4.6, \"sepalWidth\": 3.4, \"species\": \"setosa\"}, {\"petalLength\": 1.5, \"petalWidth\": 0.2, \"sepalLength\": 5.0, \"sepalWidth\": 3.4, \"species\": \"setosa\"}, {\"petalLength\": 1.4, \"petalWidth\": 0.2, \"sepalLength\": 4.4, \"sepalWidth\": 2.9, \"species\": \"setosa\"}, {\"petalLength\": 1.5, \"petalWidth\": 0.1, \"sepalLength\": 4.9, \"sepalWidth\": 3.1, \"species\": \"setosa\"}, {\"petalLength\": 1.5, \"petalWidth\": 0.2, \"sepalLength\": 5.4, \"sepalWidth\": 3.7, \"species\": \"setosa\"}, {\"petalLength\": 1.6, \"petalWidth\": 0.2, \"sepalLength\": 4.8, \"sepalWidth\": 3.4, \"species\": \"setosa\"}, {\"petalLength\": 1.4, \"petalWidth\": 0.1, \"sepalLength\": 4.8, \"sepalWidth\": 3.0, \"species\": \"setosa\"}, {\"petalLength\": 1.1, \"petalWidth\": 0.1, \"sepalLength\": 4.3, \"sepalWidth\": 3.0, \"species\": \"setosa\"}, {\"petalLength\": 1.2, \"petalWidth\": 0.2, \"sepalLength\": 5.8, \"sepalWidth\": 4.0, \"species\": \"setosa\"}, {\"petalLength\": 1.5, \"petalWidth\": 0.4, \"sepalLength\": 5.7, \"sepalWidth\": 4.4, \"species\": \"setosa\"}, {\"petalLength\": 1.3, \"petalWidth\": 0.4, \"sepalLength\": 5.4, \"sepalWidth\": 3.9, \"species\": \"setosa\"}, {\"petalLength\": 1.4, \"petalWidth\": 0.30000000000000004, \"sepalLength\": 5.1, \"sepalWidth\": 3.5, \"species\": \"setosa\"}, {\"petalLength\": 1.7000000000000002, \"petalWidth\": 0.30000000000000004, \"sepalLength\": 5.7, \"sepalWidth\": 3.8, \"species\": \"setosa\"}, {\"petalLength\": 1.5, \"petalWidth\": 0.30000000000000004, \"sepalLength\": 5.1, \"sepalWidth\": 3.8, \"species\": \"setosa\"}, {\"petalLength\": 1.7000000000000002, \"petalWidth\": 0.2, \"sepalLength\": 5.4, \"sepalWidth\": 3.4, \"species\": \"setosa\"}, {\"petalLength\": 1.5, \"petalWidth\": 0.4, \"sepalLength\": 5.1, \"sepalWidth\": 3.7, \"species\": \"setosa\"}, {\"petalLength\": 1.0, \"petalWidth\": 0.2, \"sepalLength\": 4.6, \"sepalWidth\": 3.6, \"species\": \"setosa\"}, {\"petalLength\": 1.7000000000000002, \"petalWidth\": 0.5, \"sepalLength\": 5.1, \"sepalWidth\": 3.3, \"species\": \"setosa\"}, {\"petalLength\": 1.9, \"petalWidth\": 0.2, \"sepalLength\": 4.8, \"sepalWidth\": 3.4, \"species\": \"setosa\"}, {\"petalLength\": 1.6, \"petalWidth\": 0.2, \"sepalLength\": 5.0, \"sepalWidth\": 3.0, \"species\": \"setosa\"}, {\"petalLength\": 1.6, \"petalWidth\": 0.4, \"sepalLength\": 5.0, \"sepalWidth\": 3.4, \"species\": \"setosa\"}, {\"petalLength\": 1.5, \"petalWidth\": 0.2, \"sepalLength\": 5.2, \"sepalWidth\": 3.5, \"species\": \"setosa\"}, {\"petalLength\": 1.4, \"petalWidth\": 0.2, \"sepalLength\": 5.2, \"sepalWidth\": 3.4, \"species\": \"setosa\"}, {\"petalLength\": 1.6, \"petalWidth\": 0.2, \"sepalLength\": 4.7, \"sepalWidth\": 3.2, \"species\": \"setosa\"}, {\"petalLength\": 1.6, \"petalWidth\": 0.2, \"sepalLength\": 4.8, \"sepalWidth\": 3.1, \"species\": \"setosa\"}, {\"petalLength\": 1.5, \"petalWidth\": 0.4, \"sepalLength\": 5.4, \"sepalWidth\": 3.4, \"species\": \"setosa\"}, {\"petalLength\": 1.5, \"petalWidth\": 0.1, \"sepalLength\": 5.2, \"sepalWidth\": 4.1, \"species\": \"setosa\"}, {\"petalLength\": 1.4, \"petalWidth\": 0.2, \"sepalLength\": 5.5, \"sepalWidth\": 4.2, \"species\": \"setosa\"}, {\"petalLength\": 1.5, \"petalWidth\": 0.2, \"sepalLength\": 4.9, \"sepalWidth\": 3.1, \"species\": \"setosa\"}, {\"petalLength\": 1.2, \"petalWidth\": 0.2, \"sepalLength\": 5.0, \"sepalWidth\": 3.2, \"species\": \"setosa\"}, {\"petalLength\": 1.3, \"petalWidth\": 0.2, \"sepalLength\": 5.5, \"sepalWidth\": 3.5, \"species\": \"setosa\"}, {\"petalLength\": 1.4, \"petalWidth\": 0.1, \"sepalLength\": 4.9, \"sepalWidth\": 3.6, \"species\": \"setosa\"}, {\"petalLength\": 1.3, \"petalWidth\": 0.2, \"sepalLength\": 4.4, \"sepalWidth\": 3.0, \"species\": \"setosa\"}, {\"petalLength\": 1.5, \"petalWidth\": 0.2, \"sepalLength\": 5.1, \"sepalWidth\": 3.4, \"species\": \"setosa\"}, {\"petalLength\": 1.3, \"petalWidth\": 0.30000000000000004, \"sepalLength\": 5.0, \"sepalWidth\": 3.5, \"species\": \"setosa\"}, {\"petalLength\": 1.3, \"petalWidth\": 0.30000000000000004, \"sepalLength\": 4.5, \"sepalWidth\": 2.3, \"species\": \"setosa\"}, {\"petalLength\": 1.3, \"petalWidth\": 0.2, \"sepalLength\": 4.4, \"sepalWidth\": 3.2, \"species\": \"setosa\"}, {\"petalLength\": 1.6, \"petalWidth\": 0.6000000000000001, \"sepalLength\": 5.0, \"sepalWidth\": 3.5, \"species\": \"setosa\"}, {\"petalLength\": 1.9, \"petalWidth\": 0.4, \"sepalLength\": 5.1, \"sepalWidth\": 3.8, \"species\": \"setosa\"}, {\"petalLength\": 1.4, \"petalWidth\": 0.30000000000000004, \"sepalLength\": 4.8, \"sepalWidth\": 3.0, \"species\": \"setosa\"}, {\"petalLength\": 1.6, \"petalWidth\": 0.2, \"sepalLength\": 5.1, \"sepalWidth\": 3.8, \"species\": \"setosa\"}, {\"petalLength\": 1.4, \"petalWidth\": 0.2, \"sepalLength\": 4.6, \"sepalWidth\": 3.2, \"species\": \"setosa\"}, {\"petalLength\": 1.5, \"petalWidth\": 0.2, \"sepalLength\": 5.3, \"sepalWidth\": 3.7, \"species\": \"setosa\"}, {\"petalLength\": 1.4, \"petalWidth\": 0.2, \"sepalLength\": 5.0, \"sepalWidth\": 3.3, \"species\": \"setosa\"}, {\"petalLength\": 4.7, \"petalWidth\": 1.4, \"sepalLength\": 7.0, \"sepalWidth\": 3.2, \"species\": \"versicolor\"}, {\"petalLength\": 4.5, \"petalWidth\": 1.5, \"sepalLength\": 6.4, \"sepalWidth\": 3.2, \"species\": \"versicolor\"}, {\"petalLength\": 4.9, \"petalWidth\": 1.5, \"sepalLength\": 6.9, \"sepalWidth\": 3.1, \"species\": \"versicolor\"}, {\"petalLength\": 4.0, \"petalWidth\": 1.3, \"sepalLength\": 5.5, \"sepalWidth\": 2.3, \"species\": \"versicolor\"}, {\"petalLength\": 4.6, \"petalWidth\": 1.5, \"sepalLength\": 6.5, \"sepalWidth\": 2.8, \"species\": \"versicolor\"}, {\"petalLength\": 4.5, \"petalWidth\": 1.3, \"sepalLength\": 5.7, \"sepalWidth\": 2.8, \"species\": \"versicolor\"}, {\"petalLength\": 4.7, \"petalWidth\": 1.6, \"sepalLength\": 6.3, \"sepalWidth\": 3.3, \"species\": \"versicolor\"}, {\"petalLength\": 3.3, \"petalWidth\": 1.0, \"sepalLength\": 4.9, \"sepalWidth\": 2.4, \"species\": \"versicolor\"}, {\"petalLength\": 4.6, \"petalWidth\": 1.3, \"sepalLength\": 6.6, \"sepalWidth\": 2.9, \"species\": \"versicolor\"}, {\"petalLength\": 3.9, \"petalWidth\": 1.4, \"sepalLength\": 5.2, \"sepalWidth\": 2.7, \"species\": \"versicolor\"}, {\"petalLength\": 3.5, \"petalWidth\": 1.0, \"sepalLength\": 5.0, \"sepalWidth\": 2.0, \"species\": \"versicolor\"}, {\"petalLength\": 4.2, \"petalWidth\": 1.5, \"sepalLength\": 5.9, \"sepalWidth\": 3.0, \"species\": \"versicolor\"}, {\"petalLength\": 4.0, \"petalWidth\": 1.0, \"sepalLength\": 6.0, \"sepalWidth\": 2.2, \"species\": \"versicolor\"}, {\"petalLength\": 4.7, \"petalWidth\": 1.4, \"sepalLength\": 6.1, \"sepalWidth\": 2.9, \"species\": \"versicolor\"}, {\"petalLength\": 3.6, \"petalWidth\": 1.3, \"sepalLength\": 5.6, \"sepalWidth\": 2.9, \"species\": \"versicolor\"}, {\"petalLength\": 4.4, \"petalWidth\": 1.4, \"sepalLength\": 6.7, \"sepalWidth\": 3.1, \"species\": \"versicolor\"}, {\"petalLength\": 4.5, \"petalWidth\": 1.5, \"sepalLength\": 5.6, \"sepalWidth\": 3.0, \"species\": \"versicolor\"}, {\"petalLength\": 4.1, \"petalWidth\": 1.0, \"sepalLength\": 5.8, \"sepalWidth\": 2.7, \"species\": \"versicolor\"}, {\"petalLength\": 4.5, \"petalWidth\": 1.5, \"sepalLength\": 6.2, \"sepalWidth\": 2.2, \"species\": \"versicolor\"}, {\"petalLength\": 3.9, \"petalWidth\": 1.1, \"sepalLength\": 5.6, \"sepalWidth\": 2.5, \"species\": \"versicolor\"}, {\"petalLength\": 4.8, \"petalWidth\": 1.8, \"sepalLength\": 5.9, \"sepalWidth\": 3.2, \"species\": \"versicolor\"}, {\"petalLength\": 4.0, \"petalWidth\": 1.3, \"sepalLength\": 6.1, \"sepalWidth\": 2.8, \"species\": \"versicolor\"}, {\"petalLength\": 4.9, \"petalWidth\": 1.5, \"sepalLength\": 6.3, \"sepalWidth\": 2.5, \"species\": \"versicolor\"}, {\"petalLength\": 4.7, \"petalWidth\": 1.2, \"sepalLength\": 6.1, \"sepalWidth\": 2.8, \"species\": \"versicolor\"}, {\"petalLength\": 4.3, \"petalWidth\": 1.3, \"sepalLength\": 6.4, \"sepalWidth\": 2.9, \"species\": \"versicolor\"}, {\"petalLength\": 4.4, \"petalWidth\": 1.4, \"sepalLength\": 6.6, \"sepalWidth\": 3.0, \"species\": \"versicolor\"}, {\"petalLength\": 4.8, \"petalWidth\": 1.4, \"sepalLength\": 6.8, \"sepalWidth\": 2.8, \"species\": \"versicolor\"}, {\"petalLength\": 5.0, \"petalWidth\": 1.7000000000000002, \"sepalLength\": 6.7, \"sepalWidth\": 3.0, \"species\": \"versicolor\"}, {\"petalLength\": 4.5, \"petalWidth\": 1.5, \"sepalLength\": 6.0, \"sepalWidth\": 2.9, \"species\": \"versicolor\"}, {\"petalLength\": 3.5, \"petalWidth\": 1.0, \"sepalLength\": 5.7, \"sepalWidth\": 2.6, \"species\": \"versicolor\"}, {\"petalLength\": 3.8, \"petalWidth\": 1.1, \"sepalLength\": 5.5, \"sepalWidth\": 2.4, \"species\": \"versicolor\"}, {\"petalLength\": 3.7, \"petalWidth\": 1.0, \"sepalLength\": 5.5, \"sepalWidth\": 2.4, \"species\": \"versicolor\"}, {\"petalLength\": 3.9, \"petalWidth\": 1.2, \"sepalLength\": 5.8, \"sepalWidth\": 2.7, \"species\": \"versicolor\"}, {\"petalLength\": 5.1, \"petalWidth\": 1.6, \"sepalLength\": 6.0, \"sepalWidth\": 2.7, \"species\": \"versicolor\"}, {\"petalLength\": 4.5, \"petalWidth\": 1.5, \"sepalLength\": 5.4, \"sepalWidth\": 3.0, \"species\": \"versicolor\"}, {\"petalLength\": 4.5, \"petalWidth\": 1.6, \"sepalLength\": 6.0, \"sepalWidth\": 3.4, \"species\": \"versicolor\"}, {\"petalLength\": 4.7, \"petalWidth\": 1.5, \"sepalLength\": 6.7, \"sepalWidth\": 3.1, \"species\": \"versicolor\"}, {\"petalLength\": 4.4, \"petalWidth\": 1.3, \"sepalLength\": 6.3, \"sepalWidth\": 2.3, \"species\": \"versicolor\"}, {\"petalLength\": 4.1, \"petalWidth\": 1.3, \"sepalLength\": 5.6, \"sepalWidth\": 3.0, \"species\": \"versicolor\"}, {\"petalLength\": 4.0, \"petalWidth\": 1.3, \"sepalLength\": 5.5, \"sepalWidth\": 2.5, \"species\": \"versicolor\"}, {\"petalLength\": 4.4, \"petalWidth\": 1.2, \"sepalLength\": 5.5, \"sepalWidth\": 2.6, \"species\": \"versicolor\"}, {\"petalLength\": 4.6, \"petalWidth\": 1.4, \"sepalLength\": 6.1, \"sepalWidth\": 3.0, \"species\": \"versicolor\"}, {\"petalLength\": 4.0, \"petalWidth\": 1.2, \"sepalLength\": 5.8, \"sepalWidth\": 2.6, \"species\": \"versicolor\"}, {\"petalLength\": 3.3, \"petalWidth\": 1.0, \"sepalLength\": 5.0, \"sepalWidth\": 2.3, \"species\": \"versicolor\"}, {\"petalLength\": 4.2, \"petalWidth\": 1.3, \"sepalLength\": 5.6, \"sepalWidth\": 2.7, \"species\": \"versicolor\"}, {\"petalLength\": 4.2, \"petalWidth\": 1.2, \"sepalLength\": 5.7, \"sepalWidth\": 3.0, \"species\": \"versicolor\"}, {\"petalLength\": 4.2, \"petalWidth\": 1.3, \"sepalLength\": 5.7, \"sepalWidth\": 2.9, \"species\": \"versicolor\"}, {\"petalLength\": 4.3, \"petalWidth\": 1.3, \"sepalLength\": 6.2, \"sepalWidth\": 2.9, \"species\": \"versicolor\"}, {\"petalLength\": 3.0, \"petalWidth\": 1.1, \"sepalLength\": 5.1, \"sepalWidth\": 2.5, \"species\": \"versicolor\"}, {\"petalLength\": 4.1, \"petalWidth\": 1.3, \"sepalLength\": 5.7, \"sepalWidth\": 2.8, \"species\": \"versicolor\"}, {\"petalLength\": 6.0, \"petalWidth\": 2.5, \"sepalLength\": 6.3, \"sepalWidth\": 3.3, \"species\": \"virginica\"}, {\"petalLength\": 5.1, \"petalWidth\": 1.9, \"sepalLength\": 5.8, \"sepalWidth\": 2.7, \"species\": \"virginica\"}, {\"petalLength\": 5.9, \"petalWidth\": 2.1, \"sepalLength\": 7.1, \"sepalWidth\": 3.0, \"species\": \"virginica\"}, {\"petalLength\": 5.6, \"petalWidth\": 1.8, \"sepalLength\": 6.3, \"sepalWidth\": 2.9, \"species\": \"virginica\"}, {\"petalLength\": 5.8, \"petalWidth\": 2.2, \"sepalLength\": 6.5, \"sepalWidth\": 3.0, \"species\": \"virginica\"}, {\"petalLength\": 6.6, \"petalWidth\": 2.1, \"sepalLength\": 7.6, \"sepalWidth\": 3.0, \"species\": \"virginica\"}, {\"petalLength\": 4.5, \"petalWidth\": 1.7000000000000002, \"sepalLength\": 4.9, \"sepalWidth\": 2.5, \"species\": \"virginica\"}, {\"petalLength\": 6.3, \"petalWidth\": 1.8, \"sepalLength\": 7.3, \"sepalWidth\": 2.9, \"species\": \"virginica\"}, {\"petalLength\": 5.8, \"petalWidth\": 1.8, \"sepalLength\": 6.7, \"sepalWidth\": 2.5, \"species\": \"virginica\"}, {\"petalLength\": 6.1, \"petalWidth\": 2.5, \"sepalLength\": 7.2, \"sepalWidth\": 3.6, \"species\": \"virginica\"}, {\"petalLength\": 5.1, \"petalWidth\": 2.0, \"sepalLength\": 6.5, \"sepalWidth\": 3.2, \"species\": \"virginica\"}, {\"petalLength\": 5.3, \"petalWidth\": 1.9, \"sepalLength\": 6.4, \"sepalWidth\": 2.7, \"species\": \"virginica\"}, {\"petalLength\": 5.5, \"petalWidth\": 2.1, \"sepalLength\": 6.8, \"sepalWidth\": 3.0, \"species\": \"virginica\"}, {\"petalLength\": 5.0, \"petalWidth\": 2.0, \"sepalLength\": 5.7, \"sepalWidth\": 2.5, \"species\": \"virginica\"}, {\"petalLength\": 5.1, \"petalWidth\": 2.4, \"sepalLength\": 5.8, \"sepalWidth\": 2.8, \"species\": \"virginica\"}, {\"petalLength\": 5.3, \"petalWidth\": 2.3, \"sepalLength\": 6.4, \"sepalWidth\": 3.2, \"species\": \"virginica\"}, {\"petalLength\": 5.5, \"petalWidth\": 1.8, \"sepalLength\": 6.5, \"sepalWidth\": 3.0, \"species\": \"virginica\"}, {\"petalLength\": 6.7, \"petalWidth\": 2.2, \"sepalLength\": 7.7, \"sepalWidth\": 3.8, \"species\": \"virginica\"}, {\"petalLength\": 6.9, \"petalWidth\": 2.3, \"sepalLength\": 7.7, \"sepalWidth\": 2.6, \"species\": \"virginica\"}, {\"petalLength\": 5.0, \"petalWidth\": 1.5, \"sepalLength\": 6.0, \"sepalWidth\": 2.2, \"species\": \"virginica\"}, {\"petalLength\": 5.7, \"petalWidth\": 2.3, \"sepalLength\": 6.9, \"sepalWidth\": 3.2, \"species\": \"virginica\"}, {\"petalLength\": 4.9, \"petalWidth\": 2.0, \"sepalLength\": 5.6, \"sepalWidth\": 2.8, \"species\": \"virginica\"}, {\"petalLength\": 6.7, \"petalWidth\": 2.0, \"sepalLength\": 7.7, \"sepalWidth\": 2.8, \"species\": \"virginica\"}, {\"petalLength\": 4.9, \"petalWidth\": 1.8, \"sepalLength\": 6.3, \"sepalWidth\": 2.7, \"species\": \"virginica\"}, {\"petalLength\": 5.7, \"petalWidth\": 2.1, \"sepalLength\": 6.7, \"sepalWidth\": 3.3, \"species\": \"virginica\"}, {\"petalLength\": 6.0, \"petalWidth\": 1.8, \"sepalLength\": 7.2, \"sepalWidth\": 3.2, \"species\": \"virginica\"}, {\"petalLength\": 4.8, \"petalWidth\": 1.8, \"sepalLength\": 6.2, \"sepalWidth\": 2.8, \"species\": \"virginica\"}, {\"petalLength\": 4.9, \"petalWidth\": 1.8, \"sepalLength\": 6.1, \"sepalWidth\": 3.0, \"species\": \"virginica\"}, {\"petalLength\": 5.6, \"petalWidth\": 2.1, \"sepalLength\": 6.4, \"sepalWidth\": 2.8, \"species\": \"virginica\"}, {\"petalLength\": 5.8, \"petalWidth\": 1.6, \"sepalLength\": 7.2, \"sepalWidth\": 3.0, \"species\": \"virginica\"}, {\"petalLength\": 6.1, \"petalWidth\": 1.9, \"sepalLength\": 7.4, \"sepalWidth\": 2.8, \"species\": \"virginica\"}, {\"petalLength\": 6.4, \"petalWidth\": 2.0, \"sepalLength\": 7.9, \"sepalWidth\": 3.8, \"species\": \"virginica\"}, {\"petalLength\": 5.6, \"petalWidth\": 2.2, \"sepalLength\": 6.4, \"sepalWidth\": 2.8, \"species\": \"virginica\"}, {\"petalLength\": 5.1, \"petalWidth\": 1.5, \"sepalLength\": 6.3, \"sepalWidth\": 2.8, \"species\": \"virginica\"}, {\"petalLength\": 5.6, \"petalWidth\": 1.4, \"sepalLength\": 6.1, \"sepalWidth\": 2.6, \"species\": \"virginica\"}, {\"petalLength\": 6.1, \"petalWidth\": 2.3, \"sepalLength\": 7.7, \"sepalWidth\": 3.0, \"species\": \"virginica\"}, {\"petalLength\": 5.6, \"petalWidth\": 2.4, \"sepalLength\": 6.3, \"sepalWidth\": 3.4, \"species\": \"virginica\"}, {\"petalLength\": 5.5, \"petalWidth\": 1.8, \"sepalLength\": 6.4, \"sepalWidth\": 3.1, \"species\": \"virginica\"}, {\"petalLength\": 4.8, \"petalWidth\": 1.8, \"sepalLength\": 6.0, \"sepalWidth\": 3.0, \"species\": \"virginica\"}, {\"petalLength\": 5.4, \"petalWidth\": 2.1, \"sepalLength\": 6.9, \"sepalWidth\": 3.1, \"species\": \"virginica\"}, {\"petalLength\": 5.6, \"petalWidth\": 2.4, \"sepalLength\": 6.7, \"sepalWidth\": 3.1, \"species\": \"virginica\"}, {\"petalLength\": 5.1, \"petalWidth\": 2.3, \"sepalLength\": 6.9, \"sepalWidth\": 3.1, \"species\": \"virginica\"}, {\"petalLength\": 5.1, \"petalWidth\": 1.9, \"sepalLength\": 5.8, \"sepalWidth\": 2.7, \"species\": \"virginica\"}, {\"petalLength\": 5.9, \"petalWidth\": 2.3, \"sepalLength\": 6.8, \"sepalWidth\": 3.2, \"species\": \"virginica\"}, {\"petalLength\": 5.7, \"petalWidth\": 2.5, \"sepalLength\": 6.7, \"sepalWidth\": 3.3, \"species\": \"virginica\"}, {\"petalLength\": 5.2, \"petalWidth\": 2.3, \"sepalLength\": 6.7, \"sepalWidth\": 3.0, \"species\": \"virginica\"}, {\"petalLength\": 5.0, \"petalWidth\": 1.9, \"sepalLength\": 6.3, \"sepalWidth\": 2.5, \"species\": \"virginica\"}, {\"petalLength\": 5.2, \"petalWidth\": 2.0, \"sepalLength\": 6.5, \"sepalWidth\": 3.0, \"species\": \"virginica\"}, {\"petalLength\": 5.4, \"petalWidth\": 2.3, \"sepalLength\": 6.2, \"sepalWidth\": 3.4, \"species\": \"virginica\"}, {\"petalLength\": 5.1, \"petalWidth\": 1.8, \"sepalLength\": 5.9, \"sepalWidth\": 3.0, \"species\": \"virginica\"}]}, \"mark\": \"circle\", \"encoding\": {\"x\": {\"type\": \"quantitative\", \"field\": \"sepalLength\", \"scale\": {\"zero\": false}}, \"y\": {\"type\": \"quantitative\", \"field\": \"sepalWidth\", \"scale\": {\"padding\": 1, \"zero\": false}}}, \"$schema\": \"https://vega.github.io/schema/vega-lite/v2.4.3.json\"};\n",
       "    var embed_opt = {\"mode\": \"vega-lite\"};\n",
       "\n",
       "    function showError(el, error){\n",
       "        el.innerHTML = ('<div class=\"error\">'\n",
       "                        + '<p>JavaScript Error: ' + error.message + '</p>'\n",
       "                        + \"<p>This usually means there's a typo in your chart specification. \"\n",
       "                        + \"See the javascript console for the full traceback.</p>\"\n",
       "                        + '</div>');\n",
       "        throw error;\n",
       "    }\n",
       "    const el = document.getElementById('vis');\n",
       "    vegaEmbed(\"#vis\", spec, embed_opt)\n",
       "      .catch(error => showError(el, error));\n",
       "  </script>\n",
       "</body>\n",
       "</html>\n"
      ],
      "text/plain": [
       "Chart({\n",
       "  data:      petalLength  petalWidth  sepalLength  sepalWidth    species\n",
       "  0            1.4         0.2          5.1         3.5     setosa\n",
       "  1            1.4         0.2          4.9         3.0     setosa\n",
       "  2            1.3         0.2          4.7         3.2     setosa\n",
       "  3            1.5         0.2          4.6         3.1     setosa\n",
       "  4            1.4         0.2          5.0         3.6     setosa\n",
       "  5            1.7         0.4          5.4         3.9     setosa\n",
       "  6            1.4         0.3          4.6         3.4     setosa\n",
       "  7            1.5         0.2          5.0         3.4     setosa\n",
       "  8            1.4         0.2          4.4         2.9     setosa\n",
       "  9            1.5         0.1          4.9         3.1     setosa\n",
       "  10           1.5         0.2          5.4         3.7     setosa\n",
       "  11           1.6         0.2          4.8         3.4     setosa\n",
       "  12           1.4         0.1          4.8         3.0     setosa\n",
       "  13           1.1         0.1          4.3         3.0     setosa\n",
       "  14           1.2         0.2          5.8         4.0     setosa\n",
       "  15           1.5         0.4          5.7         4.4     setosa\n",
       "  16           1.3         0.4          5.4         3.9     setosa\n",
       "  17           1.4         0.3          5.1         3.5     setosa\n",
       "  18           1.7         0.3          5.7         3.8     setosa\n",
       "  19           1.5         0.3          5.1         3.8     setosa\n",
       "  20           1.7         0.2          5.4         3.4     setosa\n",
       "  21           1.5         0.4          5.1         3.7     setosa\n",
       "  22           1.0         0.2          4.6         3.6     setosa\n",
       "  23           1.7         0.5          5.1         3.3     setosa\n",
       "  24           1.9         0.2          4.8         3.4     setosa\n",
       "  25           1.6         0.2          5.0         3.0     setosa\n",
       "  26           1.6         0.4          5.0         3.4     setosa\n",
       "  27           1.5         0.2          5.2         3.5     setosa\n",
       "  28           1.4         0.2          5.2         3.4     setosa\n",
       "  29           1.6         0.2          4.7         3.2     setosa\n",
       "  ..           ...         ...          ...         ...        ...\n",
       "  120          5.7         2.3          6.9         3.2  virginica\n",
       "  121          4.9         2.0          5.6         2.8  virginica\n",
       "  122          6.7         2.0          7.7         2.8  virginica\n",
       "  123          4.9         1.8          6.3         2.7  virginica\n",
       "  124          5.7         2.1          6.7         3.3  virginica\n",
       "  125          6.0         1.8          7.2         3.2  virginica\n",
       "  126          4.8         1.8          6.2         2.8  virginica\n",
       "  127          4.9         1.8          6.1         3.0  virginica\n",
       "  128          5.6         2.1          6.4         2.8  virginica\n",
       "  129          5.8         1.6          7.2         3.0  virginica\n",
       "  130          6.1         1.9          7.4         2.8  virginica\n",
       "  131          6.4         2.0          7.9         3.8  virginica\n",
       "  132          5.6         2.2          6.4         2.8  virginica\n",
       "  133          5.1         1.5          6.3         2.8  virginica\n",
       "  134          5.6         1.4          6.1         2.6  virginica\n",
       "  135          6.1         2.3          7.7         3.0  virginica\n",
       "  136          5.6         2.4          6.3         3.4  virginica\n",
       "  137          5.5         1.8          6.4         3.1  virginica\n",
       "  138          4.8         1.8          6.0         3.0  virginica\n",
       "  139          5.4         2.1          6.9         3.1  virginica\n",
       "  140          5.6         2.4          6.7         3.1  virginica\n",
       "  141          5.1         2.3          6.9         3.1  virginica\n",
       "  142          5.1         1.9          5.8         2.7  virginica\n",
       "  143          5.9         2.3          6.8         3.2  virginica\n",
       "  144          5.7         2.5          6.7         3.3  virginica\n",
       "  145          5.2         2.3          6.7         3.0  virginica\n",
       "  146          5.0         1.9          6.3         2.5  virginica\n",
       "  147          5.2         2.0          6.5         3.0  virginica\n",
       "  148          5.4         2.3          6.2         3.4  virginica\n",
       "  149          5.1         1.8          5.9         3.0  virginica\n",
       "  \n",
       "  [150 rows x 5 columns],\n",
       "  encoding: EncodingWithFacet({\n",
       "    x: X({\n",
       "      scale: Scale({\n",
       "        zero: False\n",
       "      }),\n",
       "      shorthand: 'sepalLength'\n",
       "    }),\n",
       "    y: Y({\n",
       "      scale: Scale({\n",
       "        padding: 1,\n",
       "        zero: False\n",
       "      }),\n",
       "      shorthand: 'sepalWidth'\n",
       "    })\n",
       "  }),\n",
       "  mark: 'circle'\n",
       "})"
      ]
     },
     "execution_count": 8,
     "metadata": {
      "tags": []
     },
     "output_type": "execute_result"
    }
   ],
   "source": [
    "from vega_datasets import data\n",
    "\n",
    "iris = data.iris()\n",
    "\n",
    "alt.Chart(iris).mark_circle().encode(\n",
    "    alt.X('sepalLength', scale=alt.Scale(zero=False)),\n",
    "    alt.Y('sepalWidth', scale=alt.Scale(zero=False, padding=1))\n",
    ")\n",
    "\n",
    "\n",
    "\n"
   ]
  },
  {
   "cell_type": "markdown",
   "metadata": {
    "colab_type": "text",
    "id": "JkQEYKl3nsfD"
   },
   "source": [
    "**Actividad:** \n",
    "\n",
    "Use las columnas 'species' y 'petalWidth'  del iris dataset para codificar los canales de color y tamaño de gráfico de dispersión."
   ]
  },
  {
   "cell_type": "code",
   "execution_count": 0,
   "metadata": {
    "colab": {},
    "colab_type": "code",
    "collapsed": true,
    "id": "IX0Ar7mAoUC6"
   },
   "outputs": [],
   "source": [
    "# grafico 2 aqui"
   ]
  },
  {
   "cell_type": "code",
   "execution_count": 6,
   "metadata": {
    "colab": {
     "base_uri": "https://localhost:8080/",
     "height": 387
    },
    "colab_type": "code",
    "id": "WPeg_5gsmxB1",
    "outputId": "a99791ad-dbb1-43e1-d9cc-56b1979401cf"
   },
   "outputs": [
    {
     "data": {
      "text/html": [
       "\n",
       "<!DOCTYPE html>\n",
       "<html>\n",
       "<head>\n",
       "  <style>\n",
       "    .vega-actions a {\n",
       "        margin-right: 12px;\n",
       "        color: #757575;\n",
       "        font-weight: normal;\n",
       "        font-size: 13px;\n",
       "    }\n",
       "    .error {\n",
       "        color: red;\n",
       "    }\n",
       "  </style>\n",
       "\n",
       "<script src=\"https://cdn.jsdelivr.net/npm//vega@3.3.1\"></script>\n",
       "<script src=\"https://cdn.jsdelivr.net/npm//vega-lite@2.4.3\"></script>\n",
       "<script src=\"https://cdn.jsdelivr.net/npm//vega-embed@3.11\"></script>\n",
       "\n",
       "</head>\n",
       "<body>\n",
       "  <div id=\"vis\"></div>\n",
       "  <script type=\"text/javascript\">\n",
       "    var spec = {\"config\": {\"view\": {\"width\": 400, \"height\": 300}}, \"data\": {\"values\": [{\"a\": \"A\", \"b\": 55}, {\"a\": \"B\", \"b\": 48}, {\"a\": \"C\", \"b\": 34}, {\"a\": \"D\", \"b\": 21}, {\"a\": \"E\", \"b\": 11}, {\"a\": \"F\", \"b\": 73}, {\"a\": \"G\", \"b\": 89}, {\"a\": \"H\", \"b\": 97}, {\"a\": \"I\", \"b\": 100}]}, \"mark\": \"line\", \"encoding\": {\"x\": {\"type\": \"nominal\", \"field\": \"a\"}, \"y\": {\"type\": \"quantitative\", \"field\": \"b\"}}, \"$schema\": \"https://vega.github.io/schema/vega-lite/v2.4.3.json\"};\n",
       "    var embed_opt = {\"mode\": \"vega-lite\"};\n",
       "\n",
       "    function showError(el, error){\n",
       "        el.innerHTML = ('<div class=\"error\">'\n",
       "                        + '<p>JavaScript Error: ' + error.message + '</p>'\n",
       "                        + \"<p>This usually means there's a typo in your chart specification. \"\n",
       "                        + \"See the javascript console for the full traceback.</p>\"\n",
       "                        + '</div>');\n",
       "        throw error;\n",
       "    }\n",
       "    const el = document.getElementById('vis');\n",
       "    vegaEmbed(\"#vis\", spec, embed_opt)\n",
       "      .catch(error => showError(el, error));\n",
       "  </script>\n",
       "</body>\n",
       "</html>\n"
      ],
      "text/plain": [
       "Chart({\n",
       "  data:    a    b\n",
       "  0  A   55\n",
       "  1  B   48\n",
       "  2  C   34\n",
       "  3  D   21\n",
       "  4  E   11\n",
       "  5  F   73\n",
       "  6  G   89\n",
       "  7  H   97\n",
       "  8  I  100,\n",
       "  encoding: EncodingWithFacet({\n",
       "    x: X({\n",
       "      shorthand: 'a'\n",
       "    }),\n",
       "    y: Y({\n",
       "      shorthand: 'b'\n",
       "    })\n",
       "  }),\n",
       "  mark: 'line'\n",
       "})"
      ]
     },
     "execution_count": 6,
     "metadata": {
      "tags": []
     },
     "output_type": "execute_result"
    }
   ],
   "source": [
    "import altair as alt\n",
    "import pandas as pd\n",
    "\n",
    "data = pd.DataFrame({\n",
    "    'a': ['A', 'B', 'C', 'D', 'E', 'F', 'G', 'H', 'I'],\n",
    "    'b': [55, 48, 34, 21, 11, 73, 89, 97, 100]\n",
    "})\n",
    "\n",
    "alt.Chart(data).mark_line().encode(\n",
    "    x='a',\n",
    "    y='b'\n",
    ")"
   ]
  },
  {
   "cell_type": "markdown",
   "metadata": {
    "colab_type": "text",
    "id": "0CUHYqhQmzpq"
   },
   "source": [
    "**Actividad:** \n",
    "\n",
    "Usando pandas y numpy, genere un dataframe con numeros aleatorios y grafiquelos como una serie de tiempo. \n",
    "\n",
    "hint: Puede usar numpy.random.randn"
   ]
  },
  {
   "cell_type": "code",
   "execution_count": 0,
   "metadata": {
    "colab": {},
    "colab_type": "code",
    "collapsed": true,
    "id": "Y3KepiK9obC1"
   },
   "outputs": [],
   "source": [
    "# grafico 3 aqui"
   ]
  }
 ],
 "metadata": {
  "colab": {
   "include_colab_link": true,
   "name": "Intro Altair.ipynb",
   "provenance": [],
   "version": "0.3.2"
  },
  "kernelspec": {
   "display_name": "Python 3",
   "language": "python",
   "name": "python3"
  },
  "language_info": {
   "codemirror_mode": {
    "name": "ipython",
    "version": 3
   },
   "file_extension": ".py",
   "mimetype": "text/x-python",
   "name": "python",
   "nbconvert_exporter": "python",
   "pygments_lexer": "ipython3",
   "version": "3.5.2"
  }
 },
 "nbformat": 4,
 "nbformat_minor": 1
}
