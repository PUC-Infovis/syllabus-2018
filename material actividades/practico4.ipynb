{
  "nbformat": 4,
  "nbformat_minor": 0,
  "metadata": {
    "colab": {
      "name": "practico4",
      "version": "0.3.2",
      "provenance": []
    },
    "kernelspec": {
      "name": "python3",
      "display_name": "Python 3"
    }
  },
  "cells": [
    {
      "metadata": {
        "id": "lrQsZPHHuGP1",
        "colab_type": "text"
      },
      "cell_type": "markdown",
      "source": [
        "\n",
        "# Actividad Práctica 4 - Altair: Declarative Visualization in Python. \n",
        "## Organizar datos tabulares\n",
        "\n",
        "**Profesor**: Denis Parra.\n",
        "\n",
        "**Ayudantes**: Fernando Florenzano, Hernán Valdivieso, Cristóbal Abarca\n",
        "\n",
        "**Nombre(s)**: Ariel Martínez Silberstein\n",
        "\n",
        "\n",
        "# Actividad\n",
        "\n",
        "En el siguiente [enlace](https://altair-viz.github.io/gallery/index.html) podrás encontrar múltiples ejemplos de código de **Altair** para *idioms* revisados en la clase de organización de datos tabulares. Debes escoger entre los ejemplos, **dos** que hayamos revisado durante la clase, y **dos** que no. Para cada *idiom* escogido muestra y analiza el código y da una breve justificación de la correspondencia entre *idiom* y los atributos que se representan.\n",
        "Este práctico puede realizarse a lo más de a dos personas.\n",
        "\n",
        "Ejemplo de respuesta (no puedes escoger este *idiom*):"
      ]
    },
    {
      "metadata": {
        "id": "2ArOrlgXxpux",
        "colab_type": "text"
      },
      "cell_type": "markdown",
      "source": [
        "## *Idiom* 0: *Bar chart*\n",
        "\n",
        "El dataset a visualizar tiene solo dos atributos, `a`  y `b`:\n",
        "*   `a` es un atributo categórico (y eventualmente, ordinal). No solo eso, también es **llave** del *dataset*, ya que cada valor es **único** para cada ítem.\n",
        "*   `b` es un atributo cuantitativo. Al ser cuantitativo, es simplemente un atributo  **valor** del *dataset*.\n",
        "\n",
        "Luego, un *idiom* adecuado para visualizar la correspondencia entre `a` y `b` es un *bar chart*, al contar con una **llave** y un **valor**. La llave se códifica con la región espacial de barra, mientras que el valor con la altura de dichas barras.\n"
      ]
    },
    {
      "metadata": {
        "id": "gi-2hsR_xKnO",
        "colab_type": "code",
        "colab": {
          "base_uri": "https://localhost:8080/",
          "height": 388
        },
        "outputId": "a85ccd36-272e-440c-f0a7-90c95e44057e"
      },
      "cell_type": "code",
      "source": [
        "import altair as alt\n",
        "import pandas as pd\n",
        "\n",
        "data = pd.DataFrame({\n",
        "    'a': ['A', 'B', 'C', 'D', 'E', 'F', 'G', 'H', 'I'],\n",
        "    'b': [28, 55, 43, 91, 81, 53, 19, 87, 52]\n",
        "})\n",
        "\n",
        "alt.Chart(data).mark_bar().encode(\n",
        "    x='a',\n",
        "    y='b'\n",
        ")"
      ],
      "execution_count": 63,
      "outputs": [
        {
          "output_type": "execute_result",
          "data": {
            "text/plain": [
              "Chart({\n",
              "  data:    a   b\n",
              "  0  A  28\n",
              "  1  B  55\n",
              "  2  C  43\n",
              "  3  D  91\n",
              "  4  E  81\n",
              "  5  F  53\n",
              "  6  G  19\n",
              "  7  H  87\n",
              "  8  I  52,\n",
              "  encoding: EncodingWithFacet({\n",
              "    x: X({\n",
              "      shorthand: 'a'\n",
              "    }),\n",
              "    y: Y({\n",
              "      shorthand: 'b'\n",
              "    })\n",
              "  }),\n",
              "  mark: 'bar'\n",
              "})"
            ],
            "text/html": [
              "\n",
              "<!DOCTYPE html>\n",
              "<html>\n",
              "<head>\n",
              "  <style>\n",
              "    .vega-actions a {\n",
              "        margin-right: 12px;\n",
              "        color: #757575;\n",
              "        font-weight: normal;\n",
              "        font-size: 13px;\n",
              "    }\n",
              "    .error {\n",
              "        color: red;\n",
              "    }\n",
              "  </style>\n",
              "\n",
              "<script src=\"https://cdn.jsdelivr.net/npm//vega@3.3.1\"></script>\n",
              "<script src=\"https://cdn.jsdelivr.net/npm//vega-lite@2.6.0\"></script>\n",
              "<script src=\"https://cdn.jsdelivr.net/npm//vega-embed@3.14\"></script>\n",
              "\n",
              "</head>\n",
              "<body>\n",
              "  <div id=\"vis\"></div>\n",
              "  <script type=\"text/javascript\">\n",
              "    var spec = {\"config\": {\"view\": {\"width\": 400, \"height\": 300}}, \"data\": {\"name\": \"data-c2a3e89ba9d5d1687d5e8c28d630a033\"}, \"mark\": \"bar\", \"encoding\": {\"x\": {\"type\": \"nominal\", \"field\": \"a\"}, \"y\": {\"type\": \"quantitative\", \"field\": \"b\"}}, \"$schema\": \"https://vega.github.io/schema/vega-lite/v2.6.0.json\", \"datasets\": {\"data-c2a3e89ba9d5d1687d5e8c28d630a033\": [{\"a\": \"A\", \"b\": 28}, {\"a\": \"B\", \"b\": 55}, {\"a\": \"C\", \"b\": 43}, {\"a\": \"D\", \"b\": 91}, {\"a\": \"E\", \"b\": 81}, {\"a\": \"F\", \"b\": 53}, {\"a\": \"G\", \"b\": 19}, {\"a\": \"H\", \"b\": 87}, {\"a\": \"I\", \"b\": 52}]}};\n",
              "    var embed_opt = {\"mode\": \"vega-lite\"};\n",
              "\n",
              "    function showError(el, error){\n",
              "        el.innerHTML = ('<div class=\"error\">'\n",
              "                        + '<p>JavaScript Error: ' + error.message + '</p>'\n",
              "                        + \"<p>This usually means there's a typo in your chart specification. \"\n",
              "                        + \"See the javascript console for the full traceback.</p>\"\n",
              "                        + '</div>');\n",
              "        throw error;\n",
              "    }\n",
              "    const el = document.getElementById('vis');\n",
              "    vegaEmbed(\"#vis\", spec, embed_opt)\n",
              "      .catch(error => showError(el, error));\n",
              "  </script>\n",
              "</body>\n",
              "</html>\n"
            ]
          },
          "metadata": {
            "tags": []
          },
          "execution_count": 63
        }
      ]
    },
    {
      "metadata": {
        "id": "Tmz_ykhszIqC",
        "colab_type": "text"
      },
      "cell_type": "markdown",
      "source": [
        "## *Idiom* X: \n",
        "\n"
      ]
    },
    {
      "metadata": {
        "id": "TCx0IBfezO5x",
        "colab_type": "code",
        "colab": {}
      },
      "cell_type": "code",
      "source": [
        ""
      ],
      "execution_count": 0,
      "outputs": []
    }
  ]
}
