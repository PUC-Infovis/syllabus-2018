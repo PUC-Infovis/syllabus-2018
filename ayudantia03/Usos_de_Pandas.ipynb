{
  "nbformat": 4,
  "nbformat_minor": 0,
  "metadata": {
    "colab": {
      "name": "Usos de Pandas.ipynb",
      "version": "0.3.2",
      "provenance": [],
      "collapsed_sections": []
    },
    "kernelspec": {
      "name": "python3",
      "display_name": "Python 3"
    }
  },
  "cells": [
    {
      "metadata": {
        "id": "p206KvGswQLD",
        "colab_type": "text"
      },
      "cell_type": "markdown",
      "source": [
        "#Ejemplo práctico de pandas\n",
        "\n",
        "En la siguiente ayudantía se utilizará la librería `pandas`, `json` y `matplotlib` para procesar datos y visualizarlos. Se hará el supuesto de que paseen un manejo básico con `pandas`. De no ser así, se recomienda estudiar dicha librería con la [siguiente ayudantía](https://github.com/nebil/data-wrangling) creada por [Nebil Kawas](https://github.com/nebil)."
      ]
    },
    {
      "metadata": {
        "id": "GIPjRoWvGRGh",
        "colab_type": "text"
      },
      "cell_type": "markdown",
      "source": [
        "En caso de aplicar este código desde google colab, es necesario descargar la base de datos. Las siguientes 2 línes se encargar de bajar el archivo y descomprimirlo. Si ya tienes la base de datos descargada, no es necesario ejecutar estas dos líneas."
      ]
    },
    {
      "metadata": {
        "id": "cYMybFoqFLgt",
        "colab_type": "code",
        "colab": {
          "base_uri": "https://localhost:8080/",
          "height": 541
        },
        "outputId": "8de478ea-6b1a-4a64-aa94-576a36803f98"
      },
      "cell_type": "code",
      "source": [
        "!wget https://www.dropbox.com/s/ixsf5aiu92l3z62/countriesFiles.zip\n",
        "!unzip -o countriesFiles.zip"
      ],
      "execution_count": 1,
      "outputs": [
        {
          "output_type": "stream",
          "text": [
            "--2018-08-13 02:12:05--  https://www.dropbox.com/s/ixsf5aiu92l3z62/countriesFiles.zip\n",
            "Resolving www.dropbox.com (www.dropbox.com)... 162.125.81.1, 2620:100:601f:1::a27d:901\n",
            "Connecting to www.dropbox.com (www.dropbox.com)|162.125.81.1|:443... connected.\n",
            "HTTP request sent, awaiting response... 301 Moved Permanently\n",
            "Location: /s/raw/ixsf5aiu92l3z62/countriesFiles.zip [following]\n",
            "--2018-08-13 02:12:06--  https://www.dropbox.com/s/raw/ixsf5aiu92l3z62/countriesFiles.zip\n",
            "Reusing existing connection to www.dropbox.com:443.\n",
            "HTTP request sent, awaiting response... 302 Found\n",
            "Location: https://uc39239c7171ac9610f14c8cd324.dl.dropboxusercontent.com/cd/0/inline/ANw0e98zVI1nxXwhUBntkeyoE2exDaSsai2ZVVumjYh_XDW4u4Q5YYzm88Kjz5AmbeIeE5xazEbmxP7dFhewg2ETl5lh72hJWcQPSj390ZEJDBqW0P7UhW_TrJvBB0STOBXh-wLBaYM2EfF7qZMU43ofeEq_WUQLY6doqPvl2qWU2KbK6SlF6B8nlCHLCB-nZzk/file [following]\n",
            "--2018-08-13 02:12:06--  https://uc39239c7171ac9610f14c8cd324.dl.dropboxusercontent.com/cd/0/inline/ANw0e98zVI1nxXwhUBntkeyoE2exDaSsai2ZVVumjYh_XDW4u4Q5YYzm88Kjz5AmbeIeE5xazEbmxP7dFhewg2ETl5lh72hJWcQPSj390ZEJDBqW0P7UhW_TrJvBB0STOBXh-wLBaYM2EfF7qZMU43ofeEq_WUQLY6doqPvl2qWU2KbK6SlF6B8nlCHLCB-nZzk/file\n",
            "Resolving uc39239c7171ac9610f14c8cd324.dl.dropboxusercontent.com (uc39239c7171ac9610f14c8cd324.dl.dropboxusercontent.com)... 162.125.9.6, 2620:100:6031:6::a27d:5106\n",
            "Connecting to uc39239c7171ac9610f14c8cd324.dl.dropboxusercontent.com (uc39239c7171ac9610f14c8cd324.dl.dropboxusercontent.com)|162.125.9.6|:443... connected.\n",
            "HTTP request sent, awaiting response... 302 FOUND\n",
            "Location: /cd/0/inline2/ANz5YnEDK90r_nVlCs3D4nbRqgyXo2EUSjqDYSTOhI1HTPd1gZ6RuuJEblU89jXuHsSt2KkVC5MGnsSc8Y5OUni44h-SQKCc6CIy18w6kFij8YDfooY0xSbCVGkIGGiCi7bkrtTCdjh3Ig3V6ujHcJKMjw6NWV3qHimq1jG8dlOX0LhF0tO0LCKwlFCZYMkk86p9O0wddyjn3p-ZgWjoq51atfgNjhtJy6DjSzso0owiCd-zJPXSRSjPCybbaKoS1UVN_34QJiVY-7S8nmfeEl4wAeLWcFx3c3NMugGwGyTjX4_Ck3wZQi9WFzBY5YbJybeUiCuLai4BVjj_k9q931c7F64ttaTvc25eHFVG-0rce4LkNH5n2JNnv97hGABY56xEIhncQtZL4N5nXSGLOj7sh5KQkPzGBT8IcU_XekCDGQnOv-mmZcgBzwwT6OlRe9Q/file [following]\n",
            "--2018-08-13 02:12:07--  https://uc39239c7171ac9610f14c8cd324.dl.dropboxusercontent.com/cd/0/inline2/ANz5YnEDK90r_nVlCs3D4nbRqgyXo2EUSjqDYSTOhI1HTPd1gZ6RuuJEblU89jXuHsSt2KkVC5MGnsSc8Y5OUni44h-SQKCc6CIy18w6kFij8YDfooY0xSbCVGkIGGiCi7bkrtTCdjh3Ig3V6ujHcJKMjw6NWV3qHimq1jG8dlOX0LhF0tO0LCKwlFCZYMkk86p9O0wddyjn3p-ZgWjoq51atfgNjhtJy6DjSzso0owiCd-zJPXSRSjPCybbaKoS1UVN_34QJiVY-7S8nmfeEl4wAeLWcFx3c3NMugGwGyTjX4_Ck3wZQi9WFzBY5YbJybeUiCuLai4BVjj_k9q931c7F64ttaTvc25eHFVG-0rce4LkNH5n2JNnv97hGABY56xEIhncQtZL4N5nXSGLOj7sh5KQkPzGBT8IcU_XekCDGQnOv-mmZcgBzwwT6OlRe9Q/file\n",
            "Reusing existing connection to uc39239c7171ac9610f14c8cd324.dl.dropboxusercontent.com:443.\n",
            "HTTP request sent, awaiting response... 200 OK\n",
            "Length: 99237 (97K) [application/zip]\n",
            "Saving to: ‘countriesFiles.zip’\n",
            "\n",
            "countriesFiles.zip  100%[===================>]  96.91K  --.-KB/s    in 0.05s   \n",
            "\n",
            "2018-08-13 02:12:07 (1.78 MB/s) - ‘countriesFiles.zip’ saved [99237/99237]\n",
            "\n",
            "Archive:  countriesFiles.zip\n",
            "  inflating: CodeCountries.csv       \n",
            "  inflating: Countries1.csv          \n",
            "  inflating: Countries2.json         \n",
            "  inflating: BadCountries.txt        \n"
          ],
          "name": "stdout"
        }
      ]
    },
    {
      "metadata": {
        "id": "7tG7Agvnge2F",
        "colab_type": "text"
      },
      "cell_type": "markdown",
      "source": [
        "# Religión en el mundo\n",
        "\n",
        "Disponemos de archivos que describen la evolución de la población segmentada por sus afiliaciones religiosas. En específico, muestran la cantidad de personas que se registran asociadas a distintas religiones a través de los años y en diferentes paises. El objetivo de este ejemplo es  identificar **la religión más popular en número de paises y cómo ha evolucionado a nivel mundial la cantidad de personas adherida al Cristianismo, Budismo e Islam a través de los años**. Responder estas preguntas directamente es imposible, ya que los datos vienen a nivel granular y es necesario realizar algún manejo sobre ellos. Los datos están en diferentes archivos, diferentes formatos y hay paises con información errada que es necesario filtrar.\n",
        "\n",
        "## ¿Qué queremos?\n",
        "- Histograma de número de paises afiliados a religiones, como mayoría\n",
        "- Gráfico de línea de la población mundial adherida al Cristianismo, Budismo o Islam a través de los años\n",
        "\n",
        "## ¿Qué tenemos?\n",
        "### _Countries1.csv_\n",
        "Archivo CSV con la población por religión de algunos paises. Cada fila indica la cantidad de personas inscritas en alguna religión especifica según el pais y año. Las columnas son:\n",
        "-  _year_: año de la información obtenida.\n",
        "- _country_: código del pais de donde se obtuvo la información.\n",
        "- _religionCode_: código único que representa una religión.\n",
        "- _population_: cantidad de personas inscritas en dicha religión.\n",
        "- _submitDate_: fecha de cuando se obtuvo dicha información.\n",
        "\n",
        "Un ejemplo del archivo en cuestión es:\n",
        "```\n",
        "year,country,religionCode,population,submitDate\n",
        "1945,CLP,islmgen,1000000,1946-09-03\n",
        "1955,PER,budgen,840000,1956-02-03\n",
        "```\n",
        "\n",
        "### _Countries2.json_\n",
        "Archivo JSON el cual contiene a un diccionario donde cada _key_ es un código del pais y su _value_ es una lista con otros diccionarios cuyas propiedades son:\n",
        "-  `year`: año de la información obtenida.\n",
        "- `religionCode`: código único que representa una religión.\n",
        "- `population`: cantidad de personas inscritas en dicha religión.\n",
        "\n",
        "Un ejemplo del archivo es:\n",
        "```\n",
        "{\n",
        "  \"ESP\":\n",
        "    [\n",
        "      {\n",
        "        \"year\": 1950,\n",
        "        \"religionCode\": \"taogen\",\n",
        "        \"population\": 11918122\n",
        "      },\n",
        "      {\n",
        "        \"year\": 2000,\n",
        "        \"religionCode\": \"taogen\",\n",
        "        \"population\": 13123123\n",
        "      },\n",
        "    ],\n",
        "    ...\n",
        "}\n",
        "```\n",
        "  \n",
        "  \n",
        "### _CodeCountries.csv_\n",
        "Archivo CSV con la traduccion de los códigos de los paises. Posee dos columnas:\n",
        "- code: indica el código del país.\n",
        "- country: indica el nombre asociado a dicho código.\n",
        "\n",
        "Un ejemplo del archivo es:\n",
        "```\n",
        "code,country\n",
        "CLP,Chile\n",
        "PER,Peru\n",
        "```\n",
        "\n",
        "### _BadCountries.txt_\n",
        "Archivo de texto con una lista de los nombres de países que poseen información errada. Un ejemplo del archivo es:\n",
        "```\n",
        "Argentina\n",
        "Holanda\n",
        "```\n",
        "\n",
        "## ¿Problemas?\n",
        "- Los información de países provienen de dos archivos diferentes.\n",
        "- Cada archivo tiene un formato diferente.\n",
        "- Existe una lista de países que tienen problemas en los _datasets_ que son necesarios filtrar.\n",
        "- La información de paises están asociadas a siglas, mientras que la lista de paises a filtrar aparecen con nombre.\n",
        "\n",
        "\n",
        "## ¿Qué haremos?\n",
        "\n",
        "Usaremos Pandas para:\n",
        "- Unificar varios _datasets_.\n",
        "- Filtrar el _dataset_ unificado.\n",
        "- Agregar columna calculada en base a otras columnas.\n",
        "- Alterar estructura del _dataset_.\n",
        "- Agrupar según ciertos atributos.\n",
        "- Visualizar lo solicitado."
      ]
    },
    {
      "metadata": {
        "id": "KbD44LPcV0IE",
        "colab_type": "text"
      },
      "cell_type": "markdown",
      "source": [
        "## Importación de librerías\n",
        "Primero es necesario importar todas las librerías necesarias, en este caso será [``json``](https://docs.python.org/2/library/json.html) para abrir el archivo _Countries.json_, [``pandas``](https://pandas.pydata.org/) para poder procesar toda la información y [``matplotlib``](https://matplotlib.org/) para visualizar."
      ]
    },
    {
      "metadata": {
        "id": "TNBiiSmn6IWn",
        "colab_type": "code",
        "colab": {}
      },
      "cell_type": "code",
      "source": [
        "import pandas as pd\n",
        "import json\n",
        "import matplotlib.pyplot as plt"
      ],
      "execution_count": 0,
      "outputs": []
    },
    {
      "metadata": {
        "id": "YEam4FYyuFLr",
        "colab_type": "text"
      },
      "cell_type": "markdown",
      "source": [
        "# Unificar archivos\n",
        "\n",
        "Para _Countries1.csv_ vamos a usar la función [`read_csv`](https://pandas.pydata.org/pandas-docs/stable/generated/pandas.read_csv.html) de `pandas`. Notar que hay una columna que no necesitamos (`submitDate`). Por lo tanto usaremos el argumento `usecols` para especificar a `pandas` que columnas cargar del csv. \n",
        "\n",
        "Para _Countries2.json_, usaremos la función load de `json` y luego vamos a generar una lista de listas donde cada lista representará una fila con el mismo formato que el CSV, es decir:\n",
        "```\n",
        "year,country,religionCode,population\n",
        "```\n",
        "Finalmente convertiremos dicha lista de listas a un [`DataFrame`](https://pandas.pydata.org/pandas-docs/stable/generated/pandas.DataFrame.html) de `pandas` para utilizar el método [`concat`](https://pandas.pydata.org/pandas-docs/stable/merging.html) de `pandas` y unificar ambos archivos en solo un `DataFrame`."
      ]
    },
    {
      "metadata": {
        "id": "VZNjQUBHuCuC",
        "colab_type": "code",
        "colab": {
          "base_uri": "https://localhost:8080/",
          "height": 206
        },
        "outputId": "2569fc28-5282-433e-b6f8-9073fa648aad"
      },
      "cell_type": "code",
      "source": [
        "countries_1 = pd.read_csv(\"Countries1.csv\", sep=\",\", usecols=[\"year\", \"country\", \"religionCode\", \"population\"])\n",
        "\n",
        "json_data = []\n",
        "with open(\"Countries2.json\") as file:\n",
        "    dict_country = json.load(file)\n",
        "\n",
        "for country in dict_country.keys():\n",
        "    for data in dict_country[country]:\n",
        "        json_data.append([data[\"year\"], country, data[\"religionCode\"], data[\"population\"]])\n",
        "\n",
        "countries_2 = pd.DataFrame(json_data, columns=[\"year\", \"country\", \"religionCode\", \"population\"])\n",
        "\n",
        "countries = pd.concat([countries_1, countries_2])\n",
        "countries.head()"
      ],
      "execution_count": 3,
      "outputs": [
        {
          "output_type": "execute_result",
          "data": {
            "text/html": [
              "<div>\n",
              "<style scoped>\n",
              "    .dataframe tbody tr th:only-of-type {\n",
              "        vertical-align: middle;\n",
              "    }\n",
              "\n",
              "    .dataframe tbody tr th {\n",
              "        vertical-align: top;\n",
              "    }\n",
              "\n",
              "    .dataframe thead th {\n",
              "        text-align: right;\n",
              "    }\n",
              "</style>\n",
              "<table border=\"1\" class=\"dataframe\">\n",
              "  <thead>\n",
              "    <tr style=\"text-align: right;\">\n",
              "      <th></th>\n",
              "      <th>year</th>\n",
              "      <th>country</th>\n",
              "      <th>religionCode</th>\n",
              "      <th>population</th>\n",
              "    </tr>\n",
              "  </thead>\n",
              "  <tbody>\n",
              "    <tr>\n",
              "      <th>0</th>\n",
              "      <td>1945</td>\n",
              "      <td>USA</td>\n",
              "      <td>chrstgen</td>\n",
              "      <td>110265118</td>\n",
              "    </tr>\n",
              "    <tr>\n",
              "      <th>1</th>\n",
              "      <td>1945</td>\n",
              "      <td>USA</td>\n",
              "      <td>judgen</td>\n",
              "      <td>4641182</td>\n",
              "    </tr>\n",
              "    <tr>\n",
              "      <th>2</th>\n",
              "      <td>1945</td>\n",
              "      <td>USA</td>\n",
              "      <td>islmgen</td>\n",
              "      <td>0</td>\n",
              "    </tr>\n",
              "    <tr>\n",
              "      <th>3</th>\n",
              "      <td>1945</td>\n",
              "      <td>USA</td>\n",
              "      <td>budgen</td>\n",
              "      <td>1601218</td>\n",
              "    </tr>\n",
              "    <tr>\n",
              "      <th>4</th>\n",
              "      <td>1945</td>\n",
              "      <td>USA</td>\n",
              "      <td>zorogen</td>\n",
              "      <td>0</td>\n",
              "    </tr>\n",
              "  </tbody>\n",
              "</table>\n",
              "</div>"
            ],
            "text/plain": [
              "   year country religionCode  population\n",
              "0  1945     USA     chrstgen   110265118\n",
              "1  1945     USA       judgen     4641182\n",
              "2  1945     USA      islmgen           0\n",
              "3  1945     USA       budgen     1601218\n",
              "4  1945     USA      zorogen           0"
            ]
          },
          "metadata": {
            "tags": []
          },
          "execution_count": 3
        }
      ]
    },
    {
      "metadata": {
        "id": "LC1WeHbTuZVw",
        "colab_type": "text"
      },
      "cell_type": "markdown",
      "source": [
        "# Modificar `countries`\n",
        "Ahora, vamos a reemplazar cada sigla de país por su nombre adecuado para posteriormente poder filtrar los paises indicados en _BadCountries.txt_.\n",
        "\n",
        "En esta parte se puede realizar de dos formas:\n",
        "1. Reemplazar cada sigla por el nombre mediante el uso de un diccionario.\n",
        "1. Realizar _join_ entre las 2 tablas donde la _key_ para hacer el join sea el código.\n",
        "\n",
        "En esta ocasión usaremos el primero método para hacer uso de `to_dict` y `map`.\n",
        "\n",
        "Primero, es necesario abrir _CodeCountries.csv_ y lo transformaremos en un diccionario donde la _key_ será la sigla y la _value_ será el nombre del país. Para esto es necesario utilizar el método `to_dict`, el cual lo aplicaremos a una [`Series`](https://pandas.pydata.org/pandas-docs/version/0.22/generated/pandas.Series.html) de `pandas` y por defecto toma el índice de cada elemento como la _key_ y el elemento será la _value_. Por lo tanto, partimos cargando el CSV e indicamos cual será el índice de cada elemento, para esto ocupamos el método [`read_csv`](https://pandas.pydata.org/pandas-docs/stable/generated/pandas.read_csv.html) y el parametro `index_col` para indicar su índice. Luego, seleccionamos la columna que será la value (``[\"country\"]``) y aplicamos el método [`to_dict`](https://pandas.pydata.org/pandas-docs/stable/generated/pandas.Series.to_dict.html).\n"
      ]
    },
    {
      "metadata": {
        "id": "4ZhAmUB0xUG2",
        "colab_type": "code",
        "colab": {}
      },
      "cell_type": "code",
      "source": [
        "country_code = pd.read_csv(\"CodeCountries.csv\", sep=\",\", index_col = \"code\")\n",
        "country_code = country_code[\"country\"].to_dict()"
      ],
      "execution_count": 0,
      "outputs": []
    },
    {
      "metadata": {
        "id": "vbghNZOSDeqm",
        "colab_type": "text"
      },
      "cell_type": "markdown",
      "source": [
        "\n",
        "Ya disponemos del diccionario, ahora creamos la función que dado el código de un pais, retorne el nombre de dicho país. Finalmente utilizamos el método [`map`](https://pandas.pydata.org/pandas-docs/stable/generated/pandas.Series.map.html) de `pandas` para aplicar dicha función a una columna.\n",
        "\n",
        "**Importante**: El método `to_dict` tambien puede ser aplicado a un [`DataFrame`](https://pandas.pydata.org/pandas-docs/stable/generated/pandas.DataFrame.to_dict.html)"
      ]
    },
    {
      "metadata": {
        "id": "TECX4Dew-jOy",
        "colab_type": "code",
        "colab": {
          "base_uri": "https://localhost:8080/",
          "height": 206
        },
        "outputId": "19cdc109-f845-4e75-df33-c6cb9d32ee3c"
      },
      "cell_type": "code",
      "source": [
        "def change_name(code):\n",
        "    return country_code[code]\n",
        "\n",
        "countries.country = countries.country.map(change_name)\n",
        "countries.head()"
      ],
      "execution_count": 5,
      "outputs": [
        {
          "output_type": "execute_result",
          "data": {
            "text/html": [
              "<div>\n",
              "<style scoped>\n",
              "    .dataframe tbody tr th:only-of-type {\n",
              "        vertical-align: middle;\n",
              "    }\n",
              "\n",
              "    .dataframe tbody tr th {\n",
              "        vertical-align: top;\n",
              "    }\n",
              "\n",
              "    .dataframe thead th {\n",
              "        text-align: right;\n",
              "    }\n",
              "</style>\n",
              "<table border=\"1\" class=\"dataframe\">\n",
              "  <thead>\n",
              "    <tr style=\"text-align: right;\">\n",
              "      <th></th>\n",
              "      <th>year</th>\n",
              "      <th>country</th>\n",
              "      <th>religionCode</th>\n",
              "      <th>population</th>\n",
              "    </tr>\n",
              "  </thead>\n",
              "  <tbody>\n",
              "    <tr>\n",
              "      <th>0</th>\n",
              "      <td>1945</td>\n",
              "      <td>United States of America</td>\n",
              "      <td>chrstgen</td>\n",
              "      <td>110265118</td>\n",
              "    </tr>\n",
              "    <tr>\n",
              "      <th>1</th>\n",
              "      <td>1945</td>\n",
              "      <td>United States of America</td>\n",
              "      <td>judgen</td>\n",
              "      <td>4641182</td>\n",
              "    </tr>\n",
              "    <tr>\n",
              "      <th>2</th>\n",
              "      <td>1945</td>\n",
              "      <td>United States of America</td>\n",
              "      <td>islmgen</td>\n",
              "      <td>0</td>\n",
              "    </tr>\n",
              "    <tr>\n",
              "      <th>3</th>\n",
              "      <td>1945</td>\n",
              "      <td>United States of America</td>\n",
              "      <td>budgen</td>\n",
              "      <td>1601218</td>\n",
              "    </tr>\n",
              "    <tr>\n",
              "      <th>4</th>\n",
              "      <td>1945</td>\n",
              "      <td>United States of America</td>\n",
              "      <td>zorogen</td>\n",
              "      <td>0</td>\n",
              "    </tr>\n",
              "  </tbody>\n",
              "</table>\n",
              "</div>"
            ],
            "text/plain": [
              "   year                   country religionCode  population\n",
              "0  1945  United States of America     chrstgen   110265118\n",
              "1  1945  United States of America       judgen     4641182\n",
              "2  1945  United States of America      islmgen           0\n",
              "3  1945  United States of America       budgen     1601218\n",
              "4  1945  United States of America      zorogen           0"
            ]
          },
          "metadata": {
            "tags": []
          },
          "execution_count": 5
        }
      ]
    },
    {
      "metadata": {
        "id": "crzhHiZcEMWG",
        "colab_type": "text"
      },
      "cell_type": "markdown",
      "source": [
        "En caso de querer realizar _join_. En necesario utilizar el método [`set_index`](https://pandas.pydata.org/pandas-docs/stable/generated/pandas.DataFrame.set_index.html) para que ambas tablas tengan el mismo índice y luego aplicar [`join`](https://pandas.pydata.org/pandas-docs/stable/generated/pandas.DataFrame.join.html) para unirlos. El código sería así:\n",
        "```\n",
        "countries.set_index(\"country\").join(country_code).reset_index().drop([\"index\"], axis=1)\n",
        "```\n",
        "\n",
        "El ``reset_index`` y ``drop`` son para dejar los índices en forma numérica y eliminar la columna _\"index\"_."
      ]
    },
    {
      "metadata": {
        "id": "XejpJic66a-1",
        "colab_type": "text"
      },
      "cell_type": "markdown",
      "source": [
        "# Filtrar información errada\n",
        "Como los paises ya tienen su nombre, podemos filtrar aquellos que están incluidos en la lista de _BadCountries.txt_. Para esto utilizaremos el método [`isin`](https://pandas.pydata.org/pandas-docs/version/0.22/generated/pandas.Series.isin.html) para verificar si el país en cuestión está incluido en una lista.\n",
        "\n",
        "Vamos a imprimir las dimensiones del dataframe antes y despues de filtrar para verificar que se eliminaron ciertas filas."
      ]
    },
    {
      "metadata": {
        "id": "8_Y5IRjX6cLi",
        "colab_type": "code",
        "colab": {
          "base_uri": "https://localhost:8080/",
          "height": 52
        },
        "outputId": "7b0c0be6-052d-4cfe-c00d-8e3eb52a0dbb"
      },
      "cell_type": "code",
      "source": [
        "print(countries.shape)\n",
        "with open(\"BadCountries.txt\") as file:\n",
        "    bad_country = [x.strip(\"\\n\") for x in file]\n",
        "countries = countries[~countries.country.isin(bad_country)]\n",
        "print(countries.shape)"
      ],
      "execution_count": 6,
      "outputs": [
        {
          "output_type": "stream",
          "text": [
            "(19950, 4)\n",
            "(18550, 4)\n"
          ],
          "name": "stdout"
        }
      ]
    },
    {
      "metadata": {
        "id": "viiWoim7uFQM",
        "colab_type": "text"
      },
      "cell_type": "markdown",
      "source": [
        "# Alterar estructura del _dataset_\n",
        "\n",
        "Actualmente, cada fila representa la población de una religión especifica para un país en algún año, lo cual implica muchos datos repetidos, porque para cada religiones, estamos repitiendo el año y nombre de dicho país. Por lo tanto, vamos a cambiar el formato en donde pondremos cada religión como una columna junto con el país y el año, de esta forma, cada fila representa **toda la información de ese país para un año especifico**.\n",
        "\n",
        "Para lograr este objetivo vamos a generar un nuevo _dataset_ con el siguiente formato:\n",
        "\n",
        "```\n",
        "country,year,religion_1,religion_2,...,religion_n\n",
        "```\n",
        "Primero vamos a utilizar el método [`groupby`](https://pandas.pydata.org/pandas-docs/stable/generated/pandas.DataFrame.groupby.html) para generar grupos de filas en donde agruparemos por país y año, así obtenedremos como grupo todas la población de cada religión asociada a un país y año en especifico.\n",
        "\n",
        "**Nota adicional**: Más información de `groupby` [aquí](https://pandas.pydata.org/pandas-docs/stable/groupby.html)\n",
        "\n",
        "Luego, para cada grupo, vamos a tomar la columna de la religión y población, setearemos como índice la columna de religión (_religionCode_) y finalmente vamos a [transponer](https://pandas.pydata.org/pandas-docs/stable/generated/pandas.DataFrame.transpose.html) dicho `DataFrame`. \n",
        "\n",
        "## ¿Por qué setear el indice?\n",
        "Cuando uno transpone un `DataFrame`, el índice de cada fila pasa a ser el _header_ del `DataFrame` y el _header_ anterior pasa a ser el índice de dicha fila. Si no seteabamos el índice como una de las columnas, se iban a utilizar los índices numéricos que vienen por defecto.\n",
        "\n",
        "En base a lo anterior, la línea 6 del código se encarga de cambiar el nombre del nuevo _header_ para que no se llame _religionCode_.\n",
        "\n",
        "Finalmente utilizamos `concat` para concatenar cada fila generada por grupo. Utilizaremos el argumento `ignore_index=True` para que el indice de cada fila sea la versión numérica.\n",
        "\n",
        "\n",
        "\n"
      ]
    },
    {
      "metadata": {
        "id": "bhLCHCOo6iGJ",
        "colab_type": "code",
        "colab": {
          "base_uri": "https://localhost:8080/",
          "height": 206
        },
        "outputId": "a9882bae-483e-4778-855a-88b28d06637b"
      },
      "cell_type": "code",
      "source": [
        "new_dataframe = []\n",
        "group_data = countries.groupby(['country', 'year'])\n",
        "for country_year_group in group_data.groups:\n",
        "    group = group_data.get_group(country_year_group)\n",
        "    new_row = group[[\"religionCode\", \"population\"]].set_index(\"religionCode\").T\n",
        "    new_row.columns.name = \"Columns\" \n",
        "\n",
        "\n",
        "    new_row[\"country\"] = country_year_group[0]\n",
        "    new_row[\"year\"] = country_year_group[1]\n",
        "    new_dataframe.append(new_row)\n",
        "    \n",
        "final_dataset = pd.concat(new_dataframe, ignore_index=True)\n",
        "final_dataset.head()"
      ],
      "execution_count": 7,
      "outputs": [
        {
          "output_type": "execute_result",
          "data": {
            "text/html": [
              "<div>\n",
              "<style scoped>\n",
              "    .dataframe tbody tr th:only-of-type {\n",
              "        vertical-align: middle;\n",
              "    }\n",
              "\n",
              "    .dataframe tbody tr th {\n",
              "        vertical-align: top;\n",
              "    }\n",
              "\n",
              "    .dataframe thead th {\n",
              "        text-align: right;\n",
              "    }\n",
              "</style>\n",
              "<table border=\"1\" class=\"dataframe\">\n",
              "  <thead>\n",
              "    <tr style=\"text-align: right;\">\n",
              "      <th>Columns</th>\n",
              "      <th>chrstgen</th>\n",
              "      <th>judgen</th>\n",
              "      <th>islmgen</th>\n",
              "      <th>budgen</th>\n",
              "      <th>zorogen</th>\n",
              "      <th>hindgen</th>\n",
              "      <th>sikhgen</th>\n",
              "      <th>shntgen</th>\n",
              "      <th>taogen</th>\n",
              "      <th>jaingen</th>\n",
              "      <th>country</th>\n",
              "      <th>year</th>\n",
              "    </tr>\n",
              "  </thead>\n",
              "  <tbody>\n",
              "    <tr>\n",
              "      <th>0</th>\n",
              "      <td>210</td>\n",
              "      <td>642</td>\n",
              "      <td>8391998</td>\n",
              "      <td>1926</td>\n",
              "      <td>2592</td>\n",
              "      <td>3304</td>\n",
              "      <td>2175</td>\n",
              "      <td>0</td>\n",
              "      <td>0</td>\n",
              "      <td>0</td>\n",
              "      <td>Afghanistan</td>\n",
              "      <td>1945</td>\n",
              "    </tr>\n",
              "    <tr>\n",
              "      <th>1</th>\n",
              "      <td>550</td>\n",
              "      <td>549</td>\n",
              "      <td>8910175</td>\n",
              "      <td>2195</td>\n",
              "      <td>2750</td>\n",
              "      <td>8018</td>\n",
              "      <td>2195</td>\n",
              "      <td>0</td>\n",
              "      <td>0</td>\n",
              "      <td>0</td>\n",
              "      <td>Afghanistan</td>\n",
              "      <td>1950</td>\n",
              "    </tr>\n",
              "    <tr>\n",
              "      <th>2</th>\n",
              "      <td>2418</td>\n",
              "      <td>469</td>\n",
              "      <td>9658503</td>\n",
              "      <td>2501</td>\n",
              "      <td>2917</td>\n",
              "      <td>16736</td>\n",
              "      <td>2215</td>\n",
              "      <td>0</td>\n",
              "      <td>0</td>\n",
              "      <td>0</td>\n",
              "      <td>Afghanistan</td>\n",
              "      <td>1955</td>\n",
              "    </tr>\n",
              "    <tr>\n",
              "      <th>3</th>\n",
              "      <td>4285</td>\n",
              "      <td>389</td>\n",
              "      <td>10537389</td>\n",
              "      <td>2807</td>\n",
              "      <td>3085</td>\n",
              "      <td>62453</td>\n",
              "      <td>2235</td>\n",
              "      <td>0</td>\n",
              "      <td>0</td>\n",
              "      <td>0</td>\n",
              "      <td>Afghanistan</td>\n",
              "      <td>1960</td>\n",
              "    </tr>\n",
              "    <tr>\n",
              "      <th>4</th>\n",
              "      <td>6153</td>\n",
              "      <td>308</td>\n",
              "      <td>11825320</td>\n",
              "      <td>3113</td>\n",
              "      <td>3252</td>\n",
              "      <td>88171</td>\n",
              "      <td>2255</td>\n",
              "      <td>0</td>\n",
              "      <td>0</td>\n",
              "      <td>0</td>\n",
              "      <td>Afghanistan</td>\n",
              "      <td>1965</td>\n",
              "    </tr>\n",
              "  </tbody>\n",
              "</table>\n",
              "</div>"
            ],
            "text/plain": [
              "Columns  chrstgen  judgen   islmgen  budgen  zorogen  hindgen  sikhgen  \\\n",
              "0             210     642   8391998    1926     2592     3304     2175   \n",
              "1             550     549   8910175    2195     2750     8018     2195   \n",
              "2            2418     469   9658503    2501     2917    16736     2215   \n",
              "3            4285     389  10537389    2807     3085    62453     2235   \n",
              "4            6153     308  11825320    3113     3252    88171     2255   \n",
              "\n",
              "Columns  shntgen  taogen  jaingen      country  year  \n",
              "0              0       0        0  Afghanistan  1945  \n",
              "1              0       0        0  Afghanistan  1950  \n",
              "2              0       0        0  Afghanistan  1955  \n",
              "3              0       0        0  Afghanistan  1960  \n",
              "4              0       0        0  Afghanistan  1965  "
            ]
          },
          "metadata": {
            "tags": []
          },
          "execution_count": 7
        }
      ]
    },
    {
      "metadata": {
        "id": "dKNUfEx16rwa",
        "colab_type": "text"
      },
      "cell_type": "markdown",
      "source": [
        "# Traducir columnas\n",
        "\n",
        "Como extra, los ayudantes buscaron el nombre de cada religión según el código utilizado. De este modo podemos cambiar el nombre de las columnas a uno legible. Para esto ocuparemos nuevamente una función que dado un código retorne el valor del diccionario y usaremos el método `map` para aplicar dicha función a cada elemento."
      ]
    },
    {
      "metadata": {
        "id": "AJg_eXoB6rRa",
        "colab_type": "code",
        "colab": {
          "base_uri": "https://localhost:8080/",
          "height": 206
        },
        "outputId": "2bd54fde-536e-4cd0-9b64-30fc23039d6b"
      },
      "cell_type": "code",
      "source": [
        "translate = {\n",
        "    \"chrstgen\": \"Christianity\", \"judgen\"  : \"Judaism\"        , \"islmgen\" : \"Islam\",\n",
        "    \"budgen\"  : \"Buddhism\"    , \"zorogen\" : \"Zoroastrianism\" , \"hindgen\" : \"Hinduism\",\n",
        "    \"sikhgen\" : \"Sikhism\"     , \"shntgen\" : \"Shintoism\"      ,\n",
        "    \"taogen\"  : \"Taoism\"      , \"jaingen\" : \"Confucianism\"\n",
        "}\n",
        "\n",
        "def change_columns(column):\n",
        "    return translate[column] if column in translate else column\n",
        "    \n",
        "final_dataset.columns = final_dataset.columns.map(change_columns)\n",
        "\n",
        "final_dataset.head()"
      ],
      "execution_count": 8,
      "outputs": [
        {
          "output_type": "execute_result",
          "data": {
            "text/html": [
              "<div>\n",
              "<style scoped>\n",
              "    .dataframe tbody tr th:only-of-type {\n",
              "        vertical-align: middle;\n",
              "    }\n",
              "\n",
              "    .dataframe tbody tr th {\n",
              "        vertical-align: top;\n",
              "    }\n",
              "\n",
              "    .dataframe thead th {\n",
              "        text-align: right;\n",
              "    }\n",
              "</style>\n",
              "<table border=\"1\" class=\"dataframe\">\n",
              "  <thead>\n",
              "    <tr style=\"text-align: right;\">\n",
              "      <th>Columns</th>\n",
              "      <th>Christianity</th>\n",
              "      <th>Judaism</th>\n",
              "      <th>Islam</th>\n",
              "      <th>Buddhism</th>\n",
              "      <th>Zoroastrianism</th>\n",
              "      <th>Hinduism</th>\n",
              "      <th>Sikhism</th>\n",
              "      <th>Shintoism</th>\n",
              "      <th>Taoism</th>\n",
              "      <th>Confucianism</th>\n",
              "      <th>country</th>\n",
              "      <th>year</th>\n",
              "    </tr>\n",
              "  </thead>\n",
              "  <tbody>\n",
              "    <tr>\n",
              "      <th>0</th>\n",
              "      <td>210</td>\n",
              "      <td>642</td>\n",
              "      <td>8391998</td>\n",
              "      <td>1926</td>\n",
              "      <td>2592</td>\n",
              "      <td>3304</td>\n",
              "      <td>2175</td>\n",
              "      <td>0</td>\n",
              "      <td>0</td>\n",
              "      <td>0</td>\n",
              "      <td>Afghanistan</td>\n",
              "      <td>1945</td>\n",
              "    </tr>\n",
              "    <tr>\n",
              "      <th>1</th>\n",
              "      <td>550</td>\n",
              "      <td>549</td>\n",
              "      <td>8910175</td>\n",
              "      <td>2195</td>\n",
              "      <td>2750</td>\n",
              "      <td>8018</td>\n",
              "      <td>2195</td>\n",
              "      <td>0</td>\n",
              "      <td>0</td>\n",
              "      <td>0</td>\n",
              "      <td>Afghanistan</td>\n",
              "      <td>1950</td>\n",
              "    </tr>\n",
              "    <tr>\n",
              "      <th>2</th>\n",
              "      <td>2418</td>\n",
              "      <td>469</td>\n",
              "      <td>9658503</td>\n",
              "      <td>2501</td>\n",
              "      <td>2917</td>\n",
              "      <td>16736</td>\n",
              "      <td>2215</td>\n",
              "      <td>0</td>\n",
              "      <td>0</td>\n",
              "      <td>0</td>\n",
              "      <td>Afghanistan</td>\n",
              "      <td>1955</td>\n",
              "    </tr>\n",
              "    <tr>\n",
              "      <th>3</th>\n",
              "      <td>4285</td>\n",
              "      <td>389</td>\n",
              "      <td>10537389</td>\n",
              "      <td>2807</td>\n",
              "      <td>3085</td>\n",
              "      <td>62453</td>\n",
              "      <td>2235</td>\n",
              "      <td>0</td>\n",
              "      <td>0</td>\n",
              "      <td>0</td>\n",
              "      <td>Afghanistan</td>\n",
              "      <td>1960</td>\n",
              "    </tr>\n",
              "    <tr>\n",
              "      <th>4</th>\n",
              "      <td>6153</td>\n",
              "      <td>308</td>\n",
              "      <td>11825320</td>\n",
              "      <td>3113</td>\n",
              "      <td>3252</td>\n",
              "      <td>88171</td>\n",
              "      <td>2255</td>\n",
              "      <td>0</td>\n",
              "      <td>0</td>\n",
              "      <td>0</td>\n",
              "      <td>Afghanistan</td>\n",
              "      <td>1965</td>\n",
              "    </tr>\n",
              "  </tbody>\n",
              "</table>\n",
              "</div>"
            ],
            "text/plain": [
              "Columns  Christianity  Judaism     Islam  Buddhism  Zoroastrianism  Hinduism  \\\n",
              "0                 210      642   8391998      1926            2592      3304   \n",
              "1                 550      549   8910175      2195            2750      8018   \n",
              "2                2418      469   9658503      2501            2917     16736   \n",
              "3                4285      389  10537389      2807            3085     62453   \n",
              "4                6153      308  11825320      3113            3252     88171   \n",
              "\n",
              "Columns  Sikhism  Shintoism  Taoism  Confucianism      country  year  \n",
              "0           2175          0       0             0  Afghanistan  1945  \n",
              "1           2195          0       0             0  Afghanistan  1950  \n",
              "2           2215          0       0             0  Afghanistan  1955  \n",
              "3           2235          0       0             0  Afghanistan  1960  \n",
              "4           2255          0       0             0  Afghanistan  1965  "
            ]
          },
          "metadata": {
            "tags": []
          },
          "execution_count": 8
        }
      ]
    },
    {
      "metadata": {
        "id": "9iGHKpP56o0s",
        "colab_type": "text"
      },
      "cell_type": "markdown",
      "source": [
        "# Agregar columna con religión popular\n",
        "Terminado el preprocesamiento, es necesario empezar a generar la información que queremos para visualizar.\n",
        "\n",
        "Para la primera visualización, necesitamos la religión popular por país, es decir, aquella religión que tenga mayor población adherida a ella. Para esto, filtraremos para solo tener la información del último año, en este caso, 2010. Luego aplicaremos el método [`idxmax`](http://pandas.pydata.org/pandas-docs/stable/generated/pandas.DataFrame.idxmax.html) con `axis=1`. Esto retornará, para cada fila, aquella columna que tenga el dato más alto. Adicionalmente aplicaremos un selector de columnas con `list(translate.values())`. De este modo solo buscará entre las columnas de religiones, excluyendo _year_ y _country_ en esta busqueda."
      ]
    },
    {
      "metadata": {
        "id": "p365b3656j_z",
        "colab_type": "code",
        "colab": {
          "base_uri": "https://localhost:8080/",
          "height": 206
        },
        "outputId": "670ff2ce-ce59-44f8-9ad8-4bd7854fb178"
      },
      "cell_type": "code",
      "source": [
        "visualization_1 = final_dataset[final_dataset[\"year\"] == 2010].copy()\n",
        "popular_religion = visualization_1[list(translate.values())].idxmax(axis=1) \n",
        "visualization_1[\"popular_religion\"] = popular_religion\n",
        "\n",
        "visualization_1.head()"
      ],
      "execution_count": 15,
      "outputs": [
        {
          "output_type": "execute_result",
          "data": {
            "text/html": [
              "<div>\n",
              "<style scoped>\n",
              "    .dataframe tbody tr th:only-of-type {\n",
              "        vertical-align: middle;\n",
              "    }\n",
              "\n",
              "    .dataframe tbody tr th {\n",
              "        vertical-align: top;\n",
              "    }\n",
              "\n",
              "    .dataframe thead th {\n",
              "        text-align: right;\n",
              "    }\n",
              "</style>\n",
              "<table border=\"1\" class=\"dataframe\">\n",
              "  <thead>\n",
              "    <tr style=\"text-align: right;\">\n",
              "      <th>Columns</th>\n",
              "      <th>Christianity</th>\n",
              "      <th>Judaism</th>\n",
              "      <th>Islam</th>\n",
              "      <th>Buddhism</th>\n",
              "      <th>Zoroastrianism</th>\n",
              "      <th>Hinduism</th>\n",
              "      <th>Sikhism</th>\n",
              "      <th>Shintoism</th>\n",
              "      <th>Taoism</th>\n",
              "      <th>Confucianism</th>\n",
              "      <th>country</th>\n",
              "      <th>year</th>\n",
              "      <th>popular_religion</th>\n",
              "    </tr>\n",
              "  </thead>\n",
              "  <tbody>\n",
              "    <tr>\n",
              "      <th>13</th>\n",
              "      <td>7287</td>\n",
              "      <td>0</td>\n",
              "      <td>26880000</td>\n",
              "      <td>2500</td>\n",
              "      <td>2000</td>\n",
              "      <td>8000</td>\n",
              "      <td>2000</td>\n",
              "      <td>0</td>\n",
              "      <td>0</td>\n",
              "      <td>0</td>\n",
              "      <td>Afghanistan</td>\n",
              "      <td>2010</td>\n",
              "      <td>Islam</td>\n",
              "    </tr>\n",
              "    <tr>\n",
              "      <th>27</th>\n",
              "      <td>685221</td>\n",
              "      <td>0</td>\n",
              "      <td>2013180</td>\n",
              "      <td>0</td>\n",
              "      <td>0</td>\n",
              "      <td>0</td>\n",
              "      <td>0</td>\n",
              "      <td>0</td>\n",
              "      <td>0</td>\n",
              "      <td>0</td>\n",
              "      <td>Albania</td>\n",
              "      <td>2010</td>\n",
              "      <td>Islam</td>\n",
              "    </tr>\n",
              "    <tr>\n",
              "      <th>37</th>\n",
              "      <td>285330</td>\n",
              "      <td>0</td>\n",
              "      <td>35309660</td>\n",
              "      <td>0</td>\n",
              "      <td>0</td>\n",
              "      <td>0</td>\n",
              "      <td>0</td>\n",
              "      <td>0</td>\n",
              "      <td>0</td>\n",
              "      <td>0</td>\n",
              "      <td>Algeria</td>\n",
              "      <td>2010</td>\n",
              "      <td>Islam</td>\n",
              "    </tr>\n",
              "    <tr>\n",
              "      <th>45</th>\n",
              "      <td>17034849</td>\n",
              "      <td>0</td>\n",
              "      <td>198750</td>\n",
              "      <td>1634</td>\n",
              "      <td>0</td>\n",
              "      <td>0</td>\n",
              "      <td>0</td>\n",
              "      <td>0</td>\n",
              "      <td>0</td>\n",
              "      <td>0</td>\n",
              "      <td>Angola</td>\n",
              "      <td>2010</td>\n",
              "      <td>Christianity</td>\n",
              "    </tr>\n",
              "    <tr>\n",
              "      <th>52</th>\n",
              "      <td>79425</td>\n",
              "      <td>0</td>\n",
              "      <td>0</td>\n",
              "      <td>0</td>\n",
              "      <td>0</td>\n",
              "      <td>0</td>\n",
              "      <td>0</td>\n",
              "      <td>0</td>\n",
              "      <td>0</td>\n",
              "      <td>0</td>\n",
              "      <td>Antigua &amp; Barbuda</td>\n",
              "      <td>2010</td>\n",
              "      <td>Christianity</td>\n",
              "    </tr>\n",
              "  </tbody>\n",
              "</table>\n",
              "</div>"
            ],
            "text/plain": [
              "Columns  Christianity  Judaism     Islam  Buddhism  Zoroastrianism  Hinduism  \\\n",
              "13               7287        0  26880000      2500            2000      8000   \n",
              "27             685221        0   2013180         0               0         0   \n",
              "37             285330        0  35309660         0               0         0   \n",
              "45           17034849        0    198750      1634               0         0   \n",
              "52              79425        0         0         0               0         0   \n",
              "\n",
              "Columns  Sikhism  Shintoism  Taoism  Confucianism            country  year  \\\n",
              "13          2000          0       0             0        Afghanistan  2010   \n",
              "27             0          0       0             0            Albania  2010   \n",
              "37             0          0       0             0            Algeria  2010   \n",
              "45             0          0       0             0             Angola  2010   \n",
              "52             0          0       0             0  Antigua & Barbuda  2010   \n",
              "\n",
              "Columns popular_religion  \n",
              "13                 Islam  \n",
              "27                 Islam  \n",
              "37                 Islam  \n",
              "45          Christianity  \n",
              "52          Christianity  "
            ]
          },
          "metadata": {
            "tags": []
          },
          "execution_count": 15
        }
      ]
    },
    {
      "metadata": {
        "id": "ZldcoIok7X9s",
        "colab_type": "text"
      },
      "cell_type": "markdown",
      "source": [
        "# Agrupar y agregar la población por año\n",
        "\n",
        "Para la segunda visualización, necesitamos la población total por año y religión, sin importar el país. Para esto utilizamos el método `groupby` y `sum` para agrugar las filas por año y sumar los datos de cada grupo, con ello obtendremos la cantidad de personas de una religión en cada año sin importar el país. Como estamos aplicando suma a los grupos, `pandas` por defecto eliminará las columanas que no pueda aplicar dicha operación, en este caso elimina _country_."
      ]
    },
    {
      "metadata": {
        "id": "JMYLzudE7ahJ",
        "colab_type": "code",
        "colab": {
          "base_uri": "https://localhost:8080/",
          "height": 238
        },
        "outputId": "3833c79f-90ae-4fd0-ff57-f7a23a475701"
      },
      "cell_type": "code",
      "source": [
        "visualization_2 = final_dataset.groupby('year').sum()\n",
        "visualization_2.head()"
      ],
      "execution_count": 13,
      "outputs": [
        {
          "output_type": "execute_result",
          "data": {
            "text/html": [
              "<div>\n",
              "<style scoped>\n",
              "    .dataframe tbody tr th:only-of-type {\n",
              "        vertical-align: middle;\n",
              "    }\n",
              "\n",
              "    .dataframe tbody tr th {\n",
              "        vertical-align: top;\n",
              "    }\n",
              "\n",
              "    .dataframe thead th {\n",
              "        text-align: right;\n",
              "    }\n",
              "</style>\n",
              "<table border=\"1\" class=\"dataframe\">\n",
              "  <thead>\n",
              "    <tr style=\"text-align: right;\">\n",
              "      <th>Columns</th>\n",
              "      <th>Christianity</th>\n",
              "      <th>Judaism</th>\n",
              "      <th>Islam</th>\n",
              "      <th>Buddhism</th>\n",
              "      <th>Zoroastrianism</th>\n",
              "      <th>Hinduism</th>\n",
              "      <th>Sikhism</th>\n",
              "      <th>Shintoism</th>\n",
              "      <th>Taoism</th>\n",
              "      <th>Confucianism</th>\n",
              "    </tr>\n",
              "    <tr>\n",
              "      <th>year</th>\n",
              "      <th></th>\n",
              "      <th></th>\n",
              "      <th></th>\n",
              "      <th></th>\n",
              "      <th></th>\n",
              "      <th></th>\n",
              "      <th></th>\n",
              "      <th></th>\n",
              "      <th></th>\n",
              "      <th></th>\n",
              "    </tr>\n",
              "  </thead>\n",
              "  <tbody>\n",
              "    <tr>\n",
              "      <th>1945</th>\n",
              "      <td>697451128</td>\n",
              "      <td>12004695</td>\n",
              "      <td>130689131</td>\n",
              "      <td>115173436</td>\n",
              "      <td>12710</td>\n",
              "      <td>208065</td>\n",
              "      <td>20809</td>\n",
              "      <td>55228775</td>\n",
              "      <td>120950</td>\n",
              "      <td>181</td>\n",
              "    </tr>\n",
              "    <tr>\n",
              "      <th>1950</th>\n",
              "      <td>691825889</td>\n",
              "      <td>13694537</td>\n",
              "      <td>293418699</td>\n",
              "      <td>152969545</td>\n",
              "      <td>118533</td>\n",
              "      <td>294064662</td>\n",
              "      <td>5919504</td>\n",
              "      <td>65452839</td>\n",
              "      <td>921828</td>\n",
              "      <td>1817254</td>\n",
              "    </tr>\n",
              "    <tr>\n",
              "      <th>1955</th>\n",
              "      <td>831061339</td>\n",
              "      <td>12982377</td>\n",
              "      <td>343275746</td>\n",
              "      <td>172631683</td>\n",
              "      <td>139618</td>\n",
              "      <td>320820625</td>\n",
              "      <td>6391600</td>\n",
              "      <td>68145114</td>\n",
              "      <td>1182738</td>\n",
              "      <td>1620067</td>\n",
              "    </tr>\n",
              "    <tr>\n",
              "      <th>1960</th>\n",
              "      <td>961744265</td>\n",
              "      <td>13724815</td>\n",
              "      <td>431939629</td>\n",
              "      <td>192992379</td>\n",
              "      <td>169083</td>\n",
              "      <td>352534527</td>\n",
              "      <td>8069158</td>\n",
              "      <td>71357167</td>\n",
              "      <td>1357348</td>\n",
              "      <td>2030570</td>\n",
              "    </tr>\n",
              "    <tr>\n",
              "      <th>1965</th>\n",
              "      <td>1069278105</td>\n",
              "      <td>14250064</td>\n",
              "      <td>510639609</td>\n",
              "      <td>203990394</td>\n",
              "      <td>147369</td>\n",
              "      <td>388504037</td>\n",
              "      <td>8873741</td>\n",
              "      <td>74982591</td>\n",
              "      <td>1704647</td>\n",
              "      <td>2339964</td>\n",
              "    </tr>\n",
              "  </tbody>\n",
              "</table>\n",
              "</div>"
            ],
            "text/plain": [
              "Columns  Christianity   Judaism      Islam   Buddhism  Zoroastrianism  \\\n",
              "year                                                                    \n",
              "1945        697451128  12004695  130689131  115173436           12710   \n",
              "1950        691825889  13694537  293418699  152969545          118533   \n",
              "1955        831061339  12982377  343275746  172631683          139618   \n",
              "1960        961744265  13724815  431939629  192992379          169083   \n",
              "1965       1069278105  14250064  510639609  203990394          147369   \n",
              "\n",
              "Columns   Hinduism  Sikhism  Shintoism   Taoism  Confucianism  \n",
              "year                                                           \n",
              "1945        208065    20809   55228775   120950           181  \n",
              "1950     294064662  5919504   65452839   921828       1817254  \n",
              "1955     320820625  6391600   68145114  1182738       1620067  \n",
              "1960     352534527  8069158   71357167  1357348       2030570  \n",
              "1965     388504037  8873741   74982591  1704647       2339964  "
            ]
          },
          "metadata": {
            "tags": []
          },
          "execution_count": 13
        }
      ]
    },
    {
      "metadata": {
        "id": "tRp_LGNg7ZUs",
        "colab_type": "text"
      },
      "cell_type": "markdown",
      "source": [
        "# Visualizar ambos dataset\n",
        "\n",
        "Ya disponemos de la información lista para visulizar, ahora tomamos la columna _popular_\\__religion_ y le aplicamos el método [`hist`](https://pandas.pydata.org/pandas-docs/version/0.22/generated/pandas.Series.hist.html) para generar un histograma. Adicionalmente le agregamos título y nombre a los ejes."
      ]
    },
    {
      "metadata": {
        "id": "CK0y5yHU7bEC",
        "colab_type": "code",
        "colab": {
          "base_uri": "https://localhost:8080/",
          "height": 376
        },
        "outputId": "6b26ad00-ceb1-4bbb-e729-537cfcb8861d"
      },
      "cell_type": "code",
      "source": [
        "title = \"Most popular religion per country\"\n",
        "y_label = \"Country count\"\n",
        "x_label = \"Most popular religions\"\n",
        "\n",
        "plot = visualization_1.popular_religion.hist()\n",
        "plot.set_xlabel(x_label)\n",
        "plot.set_ylabel(y_label)\n",
        "plot.set_title(title)\n",
        "plt.show()\n"
      ],
      "execution_count": 14,
      "outputs": [
        {
          "output_type": "display_data",
          "data": {
            "image/png": "[encoded data removed]",
            "text/plain": [
              "<matplotlib.figure.Figure at 0x7f311df6cb00>"
            ]
          },
          "metadata": {
            "tags": []
          }
        }
      ]
    },
    {
      "metadata": {
        "id": "BIbug_d6kd6O",
        "colab_type": "text"
      },
      "cell_type": "markdown",
      "source": [
        "Para el gráfico de línea, primero es necesario seleccionar las columnas y luego aplicar el método [`plot`](https://pandas.pydata.org/pandas-docs/version/0.22/generated/pandas.DataFrame.plot.html) para crear dicho gráfico con 3 líneas distintas (1 por columna)."
      ]
    },
    {
      "metadata": {
        "id": "zVvHa8_Q82vv",
        "colab_type": "code",
        "colab": {
          "base_uri": "https://localhost:8080/",
          "height": 376
        },
        "outputId": "51b30c16-a96d-41ac-abfb-af88386bf470"
      },
      "cell_type": "code",
      "source": [
        "title = \"Population per religion in thousands of millions by year\"\n",
        "x_label = \"Year\"\n",
        "y_label = \"Population  in thousands of millions\"\n",
        "plot = visualization_2[[\"Christianity\", \"Buddhism\", \"Islam\"]].plot(title=title)\n",
        "plot.set_xlabel(x_label)\n",
        "plot.set_ylabel(y_label)\n",
        "plt.show()"
      ],
      "execution_count": 12,
      "outputs": [
        {
          "output_type": "display_data",
          "data": {
            "image/png": "[encoded data removed]",
            "text/plain": [
              "<matplotlib.figure.Figure at 0x7f311e360ac8>"
            ]
          },
          "metadata": {
            "tags": []
          }
        }
      ]
    },
    {
      "metadata": {
        "id": "NpGjgHK2XLTQ",
        "colab_type": "code",
        "colab": {}
      },
      "cell_type": "code",
      "source": [
        ""
      ],
      "execution_count": 0,
      "outputs": []
    }
  ]
}